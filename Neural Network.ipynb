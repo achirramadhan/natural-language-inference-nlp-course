{
 "cells": [
  {
   "cell_type": "code",
   "execution_count": null,
   "metadata": {
    "colab": {
     "base_uri": "https://localhost:8080/",
     "height": 34
    },
    "id": "KIYTRKep3CBG",
    "outputId": "44e12bb6-ad92-472d-b397-f93ada2d6e6b"
   },
   "outputs": [
    {
     "name": "stdout",
     "output_type": "stream",
     "text": [
      "2.2.0\n"
     ]
    }
   ],
   "source": [
    "import tensorflow as tf\n",
    "print(tf.__version__)"
   ]
  },
  {
   "cell_type": "code",
   "execution_count": null,
   "metadata": {
    "id": "WQy4a_aa3IJx"
   },
   "outputs": [],
   "source": [
    "import numpy as np\n",
    "import pandas as pd\n",
    "\n",
    "from matplotlib import pyplot as plt\n",
    "\n",
    "from tensorflow.keras.preprocessing.text import Tokenizer\n",
    "from tensorflow.keras.preprocessing.sequence import pad_sequences\n",
    "from sklearn.model_selection import train_test_split"
   ]
  },
  {
   "cell_type": "code",
   "execution_count": null,
   "metadata": {
    "colab": {
     "base_uri": "https://localhost:8080/",
     "height": 124
    },
    "id": "mJDyXQ-X6R1q",
    "outputId": "4b3b5802-f811-4849-df42-4328b1d9431b"
   },
   "outputs": [
    {
     "name": "stdout",
     "output_type": "stream",
     "text": [
      "Go to this URL in a browser: https://accounts.google.com/o/oauth2/auth?client_id=947318989803-6bn6qk8qdgf4n4g3pfee6491hc0brc4i.apps.googleusercontent.com&redirect_uri=urn%3aietf%3awg%3aoauth%3a2.0%3aoob&response_type=code&scope=email%20https%3a%2f%2fwww.googleapis.com%2fauth%2fdocs.test%20https%3a%2f%2fwww.googleapis.com%2fauth%2fdrive%20https%3a%2f%2fwww.googleapis.com%2fauth%2fdrive.photos.readonly%20https%3a%2f%2fwww.googleapis.com%2fauth%2fpeopleapi.readonly\n",
      "\n",
      "Enter your authorization code:\n",
      "··········\n",
      "Mounted at /content/drive\n"
     ]
    }
   ],
   "source": [
    "from google.colab import drive\n",
    "drive.mount('/content/drive')"
   ]
  },
  {
   "cell_type": "code",
   "execution_count": null,
   "metadata": {
    "id": "Nb-jpYU56aWo"
   },
   "outputs": [],
   "source": [
    "drivedir = 'drive/My Drive/Proyek Akhir NLP/'"
   ]
  },
  {
   "cell_type": "markdown",
   "metadata": {
    "id": "nzFh2EhYwv-F"
   },
   "source": [
    "# Load Dataset"
   ]
  },
  {
   "cell_type": "code",
   "execution_count": null,
   "metadata": {
    "colab": {
     "base_uri": "https://localhost:8080/",
     "height": 449
    },
    "id": "0tKxektC6gDy",
    "outputId": "dd41c07c-3a9f-4c92-ca4e-afdb27eccb97"
   },
   "outputs": [
    {
     "data": {
      "text/html": [
       "<div>\n",
       "<style scoped>\n",
       "    .dataframe tbody tr th:only-of-type {\n",
       "        vertical-align: middle;\n",
       "    }\n",
       "\n",
       "    .dataframe tbody tr th {\n",
       "        vertical-align: top;\n",
       "    }\n",
       "\n",
       "    .dataframe thead th {\n",
       "        text-align: right;\n",
       "    }\n",
       "</style>\n",
       "<table border=\"1\" class=\"dataframe\">\n",
       "  <thead>\n",
       "    <tr style=\"text-align: right;\">\n",
       "      <th></th>\n",
       "      <th>premis</th>\n",
       "      <th>hipotesis</th>\n",
       "      <th>label</th>\n",
       "    </tr>\n",
       "    <tr>\n",
       "      <th>id</th>\n",
       "      <th></th>\n",
       "      <th></th>\n",
       "      <th></th>\n",
       "    </tr>\n",
       "  </thead>\n",
       "  <tbody>\n",
       "    <tr>\n",
       "      <th>0</th>\n",
       "      <td>Ahli paleontologi Thomas MÃ¶rs dan timnya seda...</td>\n",
       "      <td>Thomas MÃ¶rs adalah ahli paleontologi .</td>\n",
       "      <td>entailment</td>\n",
       "    </tr>\n",
       "    <tr>\n",
       "      <th>1</th>\n",
       "      <td>Ahli paleontologi Thomas MÃ¶rs dan timnya seda...</td>\n",
       "      <td>Thomas MÃ¶rs memimpin timnya dengan baik .</td>\n",
       "      <td>neutral</td>\n",
       "    </tr>\n",
       "    <tr>\n",
       "      <th>2</th>\n",
       "      <td>Ahli paleontologi Thomas MÃ¶rs dan timnya seda...</td>\n",
       "      <td>Thomas MÃ¶rs seorang diri sedang dalam misi un...</td>\n",
       "      <td>contradiction</td>\n",
       "    </tr>\n",
       "    <tr>\n",
       "      <th>3</th>\n",
       "      <td>'Biaya yang diperlukan saat itu adalah sebesar...</td>\n",
       "      <td>Biaya yang diperlukan bernilai dolar saat itu</td>\n",
       "      <td>entailment</td>\n",
       "    </tr>\n",
       "    <tr>\n",
       "      <th>4</th>\n",
       "      <td>'Biaya yang diperlukan saat itu adalah sebesar...</td>\n",
       "      <td>Biaya itu belum terkumpul</td>\n",
       "      <td>netral</td>\n",
       "    </tr>\n",
       "  </tbody>\n",
       "</table>\n",
       "</div>"
      ],
      "text/plain": [
       "                                               premis  ...          label\n",
       "id                                                     ...               \n",
       "0   Ahli paleontologi Thomas MÃ¶rs dan timnya seda...  ...     entailment\n",
       "1   Ahli paleontologi Thomas MÃ¶rs dan timnya seda...  ...        neutral\n",
       "2   Ahli paleontologi Thomas MÃ¶rs dan timnya seda...  ...  contradiction\n",
       "3   'Biaya yang diperlukan saat itu adalah sebesar...  ...     entailment\n",
       "4   'Biaya yang diperlukan saat itu adalah sebesar...  ...         netral\n",
       "\n",
       "[5 rows x 3 columns]"
      ]
     },
     "metadata": {
      "tags": []
     },
     "output_type": "display_data"
    },
    {
     "data": {
      "text/html": [
       "<div>\n",
       "<style scoped>\n",
       "    .dataframe tbody tr th:only-of-type {\n",
       "        vertical-align: middle;\n",
       "    }\n",
       "\n",
       "    .dataframe tbody tr th {\n",
       "        vertical-align: top;\n",
       "    }\n",
       "\n",
       "    .dataframe thead th {\n",
       "        text-align: right;\n",
       "    }\n",
       "</style>\n",
       "<table border=\"1\" class=\"dataframe\">\n",
       "  <thead>\n",
       "    <tr style=\"text-align: right;\">\n",
       "      <th></th>\n",
       "      <th>premis</th>\n",
       "      <th>hipotesis</th>\n",
       "    </tr>\n",
       "    <tr>\n",
       "      <th>id</th>\n",
       "      <th></th>\n",
       "      <th></th>\n",
       "    </tr>\n",
       "  </thead>\n",
       "  <tbody>\n",
       "    <tr>\n",
       "      <th>0</th>\n",
       "      <td>Barrichello dengan tangkas mengambil alih P1 d...</td>\n",
       "      <td>Barrichello menang</td>\n",
       "    </tr>\n",
       "    <tr>\n",
       "      <th>1</th>\n",
       "      <td>Barrichello dengan tangkas mengambil alih P1 d...</td>\n",
       "      <td>Barrichello mengambil alih P1</td>\n",
       "    </tr>\n",
       "    <tr>\n",
       "      <th>2</th>\n",
       "      <td>Wakil Bupati Ngawi Ony Anwar Harsono menilai B...</td>\n",
       "      <td>Benteng Pendem berpotensi untuk dijadikan cag...</td>\n",
       "    </tr>\n",
       "    <tr>\n",
       "      <th>3</th>\n",
       "      <td>Wakil Bupati Ngawi Ony Anwar Harsono menilai B...</td>\n",
       "      <td>Benteng Pendem ditemukan baru-baru ini</td>\n",
       "    </tr>\n",
       "    <tr>\n",
       "      <th>4</th>\n",
       "      <td>Wakil Bupati Ngawi Ony Anwar Harsono menilai B...</td>\n",
       "      <td>Benteng Pendem tidak berpotensi untuk dijadik...</td>\n",
       "    </tr>\n",
       "  </tbody>\n",
       "</table>\n",
       "</div>"
      ],
      "text/plain": [
       "                                               premis                                          hipotesis\n",
       "id                                                                                                      \n",
       "0   Barrichello dengan tangkas mengambil alih P1 d...                                 Barrichello menang\n",
       "1   Barrichello dengan tangkas mengambil alih P1 d...                      Barrichello mengambil alih P1\n",
       "2   Wakil Bupati Ngawi Ony Anwar Harsono menilai B...   Benteng Pendem berpotensi untuk dijadikan cag...\n",
       "3   Wakil Bupati Ngawi Ony Anwar Harsono menilai B...             Benteng Pendem ditemukan baru-baru ini\n",
       "4   Wakil Bupati Ngawi Ony Anwar Harsono menilai B...   Benteng Pendem tidak berpotensi untuk dijadik..."
      ]
     },
     "metadata": {
      "tags": []
     },
     "output_type": "display_data"
    }
   ],
   "source": [
    "train_df = pd.read_csv(f'{drivedir}training_data.csv',index_col='id')\n",
    "test_df = pd.read_csv(f'{drivedir}testing_data.csv',index_col='id')\n",
    "\n",
    "display(train_df.head())\n",
    "display(test_df.head())"
   ]
  },
  {
   "cell_type": "code",
   "execution_count": null,
   "metadata": {
    "colab": {
     "base_uri": "https://localhost:8080/",
     "height": 34
    },
    "id": "wxXd0Ail6l_3",
    "outputId": "62e29154-2619-4239-fda1-8d83c1204802"
   },
   "outputs": [
    {
     "data": {
      "text/plain": [
       "{'contradiction', 'entailment', 'neutral'}"
      ]
     },
     "metadata": {
      "tags": []
     },
     "output_type": "display_data"
    }
   ],
   "source": [
    "train_df['label'] = train_df['label'].apply(lambda x : x.lower())\n",
    "train_df['label'] = train_df['label'].apply(lambda x : 'entailment' if x == 'entailments' else x)\n",
    "train_df['label'] = train_df['label'].apply(lambda x : 'neutral' if x == 'netral' else x)\n",
    "\n",
    "display(set(train_df['label']))"
   ]
  },
  {
   "cell_type": "markdown",
   "metadata": {
    "id": "7gp3KCpf6qnM"
   },
   "source": [
    "# Preprocessing"
   ]
  },
  {
   "cell_type": "code",
   "execution_count": null,
   "metadata": {
    "colab": {
     "base_uri": "https://localhost:8080/",
     "height": 973
    },
    "id": "4U3OcNk76sP3",
    "outputId": "05bfc3a5-9068-4b24-9792-7ddcec2e441b"
   },
   "outputs": [
    {
     "name": "stdout",
     "output_type": "stream",
     "text": [
      "Collecting fuzzywuzzy\n",
      "  Downloading https://files.pythonhosted.org/packages/43/ff/74f23998ad2f93b945c0309f825be92e04e0348e062026998b5eefef4c33/fuzzywuzzy-0.18.0-py2.py3-none-any.whl\n",
      "Installing collected packages: fuzzywuzzy\n",
      "Successfully installed fuzzywuzzy-0.18.0\n",
      "Collecting PySastrawi\n",
      "\u001b[?25l  Downloading https://files.pythonhosted.org/packages/61/84/b0a5454a040f81e81e6a95a5d5635f20ad43cc0c288f8b4966b339084962/PySastrawi-1.2.0-py2.py3-none-any.whl (210kB)\n",
      "\u001b[K     |████████████████████████████████| 215kB 10.7MB/s \n",
      "\u001b[?25hInstalling collected packages: PySastrawi\n",
      "Successfully installed PySastrawi-1.2.0\n",
      "Collecting num2words\n",
      "\u001b[?25l  Downloading https://files.pythonhosted.org/packages/eb/a2/ea800689730732e27711c41beed4b2a129b34974435bdc450377ec407738/num2words-0.5.10-py3-none-any.whl (101kB)\n",
      "\u001b[K     |████████████████████████████████| 102kB 7.4MB/s \n",
      "\u001b[?25hRequirement already satisfied: docopt>=0.6.2 in /usr/local/lib/python3.6/dist-packages (from num2words) (0.6.2)\n",
      "Installing collected packages: num2words\n",
      "Successfully installed num2words-0.5.10\n",
      "Collecting catboost\n",
      "\u001b[?25l  Downloading https://files.pythonhosted.org/packages/b2/aa/e61819d04ef2bbee778bf4b3a748db1f3ad23512377e43ecfdc3211437a0/catboost-0.23.2-cp36-none-manylinux1_x86_64.whl (64.8MB)\n",
      "\u001b[K     |████████████████████████████████| 64.8MB 45kB/s \n",
      "\u001b[?25hRequirement already satisfied: plotly in /usr/local/lib/python3.6/dist-packages (from catboost) (4.4.1)\n",
      "Requirement already satisfied: graphviz in /usr/local/lib/python3.6/dist-packages (from catboost) (0.10.1)\n",
      "Requirement already satisfied: pandas>=0.24.0 in /usr/local/lib/python3.6/dist-packages (from catboost) (1.0.5)\n",
      "Requirement already satisfied: numpy>=1.16.0 in /usr/local/lib/python3.6/dist-packages (from catboost) (1.18.5)\n",
      "Requirement already satisfied: scipy in /usr/local/lib/python3.6/dist-packages (from catboost) (1.4.1)\n",
      "Requirement already satisfied: six in /usr/local/lib/python3.6/dist-packages (from catboost) (1.12.0)\n",
      "Requirement already satisfied: matplotlib in /usr/local/lib/python3.6/dist-packages (from catboost) (3.2.2)\n",
      "Requirement already satisfied: retrying>=1.3.3 in /usr/local/lib/python3.6/dist-packages (from plotly->catboost) (1.3.3)\n",
      "Requirement already satisfied: pytz>=2017.2 in /usr/local/lib/python3.6/dist-packages (from pandas>=0.24.0->catboost) (2018.9)\n",
      "Requirement already satisfied: python-dateutil>=2.6.1 in /usr/local/lib/python3.6/dist-packages (from pandas>=0.24.0->catboost) (2.8.1)\n",
      "Requirement already satisfied: cycler>=0.10 in /usr/local/lib/python3.6/dist-packages (from matplotlib->catboost) (0.10.0)\n",
      "Requirement already satisfied: kiwisolver>=1.0.1 in /usr/local/lib/python3.6/dist-packages (from matplotlib->catboost) (1.2.0)\n",
      "Requirement already satisfied: pyparsing!=2.0.4,!=2.1.2,!=2.1.6,>=2.0.1 in /usr/local/lib/python3.6/dist-packages (from matplotlib->catboost) (2.4.7)\n",
      "Installing collected packages: catboost\n",
      "Successfully installed catboost-0.23.2\n",
      "Collecting python-Levenshtein\n",
      "\u001b[?25l  Downloading https://files.pythonhosted.org/packages/42/a9/d1785c85ebf9b7dfacd08938dd028209c34a0ea3b1bcdb895208bd40a67d/python-Levenshtein-0.12.0.tar.gz (48kB)\n",
      "\u001b[K     |████████████████████████████████| 51kB 6.6MB/s \n",
      "\u001b[?25hRequirement already satisfied: setuptools in /usr/local/lib/python3.6/dist-packages (from python-Levenshtein) (47.3.1)\n",
      "Building wheels for collected packages: python-Levenshtein\n",
      "  Building wheel for python-Levenshtein (setup.py) ... \u001b[?25l\u001b[?25hdone\n",
      "  Created wheel for python-Levenshtein: filename=python_Levenshtein-0.12.0-cp36-cp36m-linux_x86_64.whl size=144793 sha256=26385920f9563b321615f27b52bba18273342324b474046c2f8637be07fd9c2d\n",
      "  Stored in directory: /root/.cache/pip/wheels/de/c2/93/660fd5f7559049268ad2dc6d81c4e39e9e36518766eaf7e342\n",
      "Successfully built python-Levenshtein\n",
      "Installing collected packages: python-Levenshtein\n",
      "Successfully installed python-Levenshtein-0.12.0\n",
      "Cloning into 'Tesaurus-Bahasa'...\n",
      "remote: Enumerating objects: 40, done.\u001b[K\n",
      "remote: Counting objects: 100% (40/40), done.\u001b[K\n",
      "remote: Compressing objects: 100% (19/19), done.\u001b[K\n",
      "remote: Total 40 (delta 17), reused 40 (delta 17), pack-reused 0\u001b[K\n",
      "Unpacking objects: 100% (40/40), done.\n",
      "Cloning into 'Daftar-Antonim-Tesaurus-Bahasa-Indonesia'...\n",
      "remote: Enumerating objects: 16, done.\u001b[K\n",
      "remote: Total 16 (delta 0), reused 0 (delta 0), pack-reused 16\u001b[K\n",
      "Unpacking objects: 100% (16/16), done.\n"
     ]
    }
   ],
   "source": [
    "!pip install fuzzywuzzy\n",
    "!pip install PySastrawi\n",
    "!pip install num2words\n",
    "!pip install catboost\n",
    "!pip install python-Levenshtein\n",
    "!git clone https://github.com/adnanzulkarnain/Tesaurus-Bahasa/\n",
    "!git clone https://github.com/riochr17/Daftar-Antonim-Tesaurus-Bahasa-Indonesia/"
   ]
  },
  {
   "cell_type": "code",
   "execution_count": null,
   "metadata": {
    "id": "FyWMHf4B6xyX"
   },
   "outputs": [],
   "source": [
    "# sinonim\n",
    "\n",
    "with open('Tesaurus-Bahasa/Tesaurus-BahasaIndonesia.txt') as f:\n",
    "    lines = f.readlines()\n",
    "\n",
    "lines = [x.strip().split(',') for x in lines]\n",
    "lines = [x for x in lines if len(x) > 1]\n",
    "synonym = dict()\n",
    "for line in lines:\n",
    "    resultant = line[0]\n",
    "    for token in line:\n",
    "        synonym[token] = resultant\n",
    "\n",
    "synonym['tak'] = 'tidak'\n",
    "\n",
    "# antonim\n",
    "\n",
    "with open('Daftar-Antonim-Tesaurus-Bahasa-Indonesia/hasil-pasangan-antonim-id.txt') as f:\n",
    "    lines = f.readlines()\n",
    "lines = [x.strip().split() for x in lines]\n",
    "from collections import defaultdict\n",
    "\n",
    "antonym = defaultdict(set)\n",
    "for line in lines:\n",
    "    if line[0] not in antonym.keys():\n",
    "        antonym[line[0]] = {line[1]}\n",
    "    else:\n",
    "        antonym[line[0]].add(line[1])\n",
    "    if line[1] not in antonym.keys():\n",
    "        antonym[line[1]] = {line[0]}\n",
    "    else:\n",
    "        antonym[line[1]].add(line[0])\n",
    "\n",
    "def stem(df):\n",
    "    from Sastrawi.Stemmer.StemmerFactory import StemmerFactory\n",
    "    factory = StemmerFactory()\n",
    "    stemmer = factory.create_stemmer()\n",
    "    df['premis'] = df['premis'].apply(stemmer.stem)\n",
    "    df['hipotesis'] = df['hipotesis'].apply(stemmer.stem)\n",
    "    return df\n",
    "\n",
    "def map2synonym(df, after_stem=False):\n",
    "    def map2syn(row):\n",
    "        res = []\n",
    "        for tok in row.split():\n",
    "            if tok in synonym.keys():\n",
    "                res.append(synonym[tok])\n",
    "            else:\n",
    "                res.append(tok)\n",
    "        return ' '.join(res)\n",
    "\n",
    "    df['premis'] = df['premis'].apply(map2syn)\n",
    "    df['hipotesis'] = df['hipotesis'].apply(map2syn)\n",
    "    return df\n",
    "\n",
    "def cont_antonym(df, after_stem=False):\n",
    "    cont_antonym = []\n",
    "    for p, h in zip(df['premis'],df['hipotesis']):\n",
    "        ants = set()\n",
    "        cnt = 0\n",
    "        for tok in p.split():\n",
    "            if tok in antonym.keys():\n",
    "                for k in antonym[tok]:\n",
    "                    ants.add(k)\n",
    "        for ant in ants:\n",
    "            if ant in h.split():\n",
    "                cnt += 1\n",
    "        cont_antonym.append(cnt)\n",
    "    if after_stem:\n",
    "        df['cont_antonym_stem'] = cont_antonym\n",
    "    else:\n",
    "        df['cont_antonym'] = cont_antonym\n",
    "    return df\n",
    "\n",
    "def lowercase(df):\n",
    "    df['premis'] = df['premis'].apply(lambda x: x.lower())\n",
    "    df['hipotesis'] = df['hipotesis'].apply(lambda x: x.lower())\n",
    "    return df\n",
    "\n",
    "def num2word(df):\n",
    "    from num2words import num2words\n",
    "    def num2word_row(row):\n",
    "        sent = []\n",
    "        for word in row.split():\n",
    "            try:\n",
    "                sent.append(num2words(int(word), lang='id'))\n",
    "            except:\n",
    "                sent.append(word)\n",
    "        return ' '.join(sent)\n",
    "    df['premis'] = df['premis'].apply(num2word_row)\n",
    "    df['hipotesis'] = df['hipotesis'].apply(num2word_row)\n",
    "    return df\n",
    "\n",
    "def del_tanda(df):\n",
    "    def del_tanda_row(row):\n",
    "        return ''.join(ch for ch in row if ch.isalnum() or ch == ' ')\n",
    "    df['premis'] = df['premis'].apply(del_tanda_row)\n",
    "    df['hipotesis'] = df['hipotesis'].apply(del_tanda_row)\n",
    "    return df\n",
    "\n",
    "def extract_base_feats(df):\n",
    "    df['intersect'] = [\n",
    "        set(hip.split()).intersection(set(premis.split()))\n",
    "        for hip, premis in zip(df['hipotesis'].values, df['premis'].values)\n",
    "    ]\n",
    "    df['p_len'] = df['premis'].apply(len)\n",
    "    df['h_len'] = df['hipotesis'].apply(len)\n",
    "    df['p_word_len'] = df['premis'].apply(lambda x: len(x.split()))\n",
    "    df['h_word_len'] = df['hipotesis'].apply(lambda x: len(x.split()))\n",
    "    df['p_unique_word_len'] = df['premis'].apply(lambda x: len(set(x.split())))\n",
    "    df['h_unique_word_len'] = df['hipotesis'].apply(lambda x: len(set(x.split())))\n",
    "    df['i_len'] = df['intersect'].apply(len)\n",
    "    return df\n",
    "\n",
    "def rat_feats(df):\n",
    "    df['ph_len_rat'] = df['p_len'] / df['h_len']\n",
    "    df['ph_word_len_rat'] = df['p_word_len'] / df['h_word_len']\n",
    "    df['ph_unique_word_len_rat'] = df['p_unique_word_len'] / df['h_unique_word_len']\n",
    "    df['ip_unique_word_len_rat'] = df['i_len'] / df['p_unique_word_len']\n",
    "    df['ih_unique_word_len_rat'] = df['i_len'] / df['h_unique_word_len']\n",
    "    return df\n",
    "\n",
    "def neg_feats(df):\n",
    "    def contains_neg(seq):\n",
    "        cnt = 0\n",
    "        for neg_token in ['bukan', 'tidak', 'tak', 'engga', 'enggak']:\n",
    "            if neg_token in seq:\n",
    "                cnt += 1\n",
    "        return cnt\n",
    "    df['p_contains_neg'] = df['premis'].apply(lambda x: contains_neg(x.split()))\n",
    "    df['h_contains_neg'] = df['hipotesis'].apply(lambda x: contains_neg(x.split()))\n",
    "    df['i_contains_neg'] = df['intersect'].apply(lambda x: contains_neg(x))\n",
    "    return df\n",
    "\n",
    "def pos_feats(df):\n",
    "    def contains_pos(seq):\n",
    "        cnt = 0\n",
    "        for pos_token in ['adalah', 'merupakan', 'iyalah']:\n",
    "            if pos_token in seq:\n",
    "                cnt += 1\n",
    "        return cnt\n",
    "    df['p_contains_pos'] = df['premis'].apply(lambda x: contains_pos(x.split()))\n",
    "    df['h_contains_pos'] = df['hipotesis'].apply(lambda x: contains_pos(x.split()))\n",
    "    df['i_contains_pos'] = df['intersect'].apply(lambda x: contains_pos(x))\n",
    "    return df\n",
    "\n",
    "def fuzzy(df):\n",
    "    from fuzzywuzzy import fuzz\n",
    "    df['ratio'] = [fuzz.ratio(p,h) for p,h in zip(df['premis'],df['hipotesis'])]\n",
    "    df['partial_ratio'] = [fuzz.partial_ratio(p,h) for p,h in zip(df['premis'],df['hipotesis'])]\n",
    "    df['token_sort_ratio'] = [fuzz.token_sort_ratio(p,h) for p,h in zip(df['premis'],df['hipotesis'])]\n",
    "    return df\n",
    "\n",
    "def h_is_ordered_subs(df):\n",
    "    is_ordered_subs = []\n",
    "    for p, h, i in zip(df['premis'], df['hipotesis'], df['intersect']):\n",
    "        if len(i) == 0:\n",
    "            is_ordered_subs.append(0)\n",
    "            continue\n",
    "\n",
    "        i_list = []\n",
    "        for p_t in p.split():\n",
    "            if p_t in i:\n",
    "                i_list.append(p_t)\n",
    "\n",
    "        h_list = h.split()\n",
    "\n",
    "        breaked = False\n",
    "        for cnt, i_t in enumerate(i_list):\n",
    "            if len(h_list) == 0:\n",
    "                breaked = True\n",
    "                is_ordered_subs.append((cnt)/len(i_list))\n",
    "                break\n",
    "            elif i_t in h_list:\n",
    "                i_t_index = h_list.index(i_t)\n",
    "                h_list = h_list[i_t_index+1:]\n",
    "            else:\n",
    "                breaked = True\n",
    "                is_ordered_subs.append((cnt)/len(i_list))\n",
    "                break\n",
    "\n",
    "        if not breaked:\n",
    "            is_ordered_subs.append(1)\n",
    "    df['is_ordered_subs_num'] = is_ordered_subs\n",
    "    df['is_ordered_subs_bool'] = df['is_ordered_subs_num'].apply(lambda x: 1 if x == 1 else 0)\n",
    "    return df\n",
    "\n",
    "def intersect_position(df):\n",
    "    p_maxx = []\n",
    "    p_minn = []\n",
    "    p_meann = []\n",
    "    h_maxx = []\n",
    "    h_minn = []\n",
    "    h_meann = []\n",
    "    ph_minn = []\n",
    "    ph_maxx = []\n",
    "    ph_meann = []\n",
    "    for p,h, i in zip(df['premis'], df['hipotesis'], df['intersect']):\n",
    "        if len(i) == 0:\n",
    "            p_maxx.append(0)\n",
    "            p_minn.append(0)\n",
    "            p_meann.append(0)\n",
    "            h_maxx.append(0)\n",
    "            h_minn.append(0)\n",
    "            h_meann.append(0)\n",
    "            ph_maxx.append(0)\n",
    "            ph_minn.append(0)\n",
    "            ph_meann.append(0)\n",
    "            continue\n",
    "\n",
    "        p_split = p.split()\n",
    "        p_list = []\n",
    "        for ii in i:\n",
    "            p_list.append(p_split.index(ii))\n",
    "        \n",
    "        p_list = np.array(p_list)\n",
    "        p_maxx.append(p_list.max())\n",
    "        p_minn.append(p_list.min())\n",
    "        p_meann.append(p_list.mean())\n",
    "\n",
    "        h_split = h.split()\n",
    "        h_list = []\n",
    "        for ii in i:\n",
    "            h_list.append(h_split.index(ii))\n",
    "        \n",
    "        h_list = np.array(h_list)\n",
    "        h_maxx.append(h_list.max())\n",
    "        h_minn.append(h_list.min())\n",
    "        h_meann.append(h_list.mean())\n",
    "\n",
    "        ph_maxx.append(h_list.max() - p_list.max())\n",
    "        ph_minn.append(h_list.min() - p_list.min())\n",
    "        ph_meann.append(h_list.mean() - p_list.mean())\n",
    "\n",
    "\n",
    "    df['p_max'] = p_maxx\n",
    "    df['p_min'] = p_minn\n",
    "    df['p_mean'] = p_meann\n",
    "    df['h_max'] = h_maxx\n",
    "    df['h_min'] = h_minn\n",
    "    df['h_mean'] = h_meann\n",
    "    df['ph_max'] = ph_maxx\n",
    "    df['ph_min'] = ph_minn\n",
    "    df['ph_mean'] = ph_meann\n",
    "    return df\n",
    "\n",
    "from sklearn.preprocessing import StandardScaler\n",
    "def normalize(train, test):\n",
    "    scaler = StandardScaler()\n",
    "    train_data = scaler.fit_transform(train)\n",
    "    test_data = scaler.transform(test)\n",
    "    train = pd.DataFrame(data=train_data, index=train.index, columns=train.columns)\n",
    "    test = pd.DataFrame(data=test_data, index=test.index, columns=test.columns)\n",
    "    return train, test\n",
    "\n",
    "def is_tidak(word):\n",
    "    return word == 'tidak' \\\n",
    "        or word == 'tak' \\\n",
    "        or word == 'nggak' \\\n",
    "        or word == 'ngga' \\\n",
    "        or word == 'ga' \\\n",
    "        or word == 'gak' \\\n",
    "        or word == 'nda' \\\n",
    "        or word == 'ndak' \\\n",
    "        or word == 'bukan' \\\n",
    "\n",
    "def negasi_agreement(df, after_stem=False):\n",
    "    negasi_agreement = []\n",
    "    for p, h in zip(df['premis'],df['hipotesis']):\n",
    "        word_after_tidak = \"\"\n",
    "        h_tokens = h.split()\n",
    "        n = len(h_tokens)\n",
    "        for i, tok in enumerate(h_tokens):\n",
    "            if is_tidak(tok) and i < n - 1:\n",
    "                word_after_tidak = h_tokens[i + 1]\n",
    "                break\n",
    "\n",
    "        negasi = 0\n",
    "        if word_after_tidak != \"\":\n",
    "            p_tokens = p.split()\n",
    "            n = len(p_tokens)\n",
    "            for i, tok in enumerate(h_tokens):\n",
    "                if word_after_tidak == tok and i > 0:\n",
    "                    if is_tidak(h_tokens[i - 1]):\n",
    "                        negasi = 1\n",
    "            \n",
    "        negasi_agreement.append(negasi)\n",
    "    \n",
    "    df['negasi_agreement'] = negasi_agreement\n",
    "    return df\n",
    "\n",
    "def unrelated_words(df, after_stem=False):\n",
    "    unrelated_words = []\n",
    "    for p, h in zip(df['premis'], df['hipotesis']):\n",
    "        h_tokens = h.split()\n",
    "        p_tokens = p.split()\n",
    "\n",
    "        num_unrelated_word = 0\n",
    "        for i, h_tok in enumerate(h_tokens):\n",
    "            has_related = False\n",
    "            if h_tok not in synonym:\n",
    "                continue\n",
    "                \n",
    "            if is_tidak(h_tok):\n",
    "                continue\n",
    "            \n",
    "            for j, p_tok in enumerate(p_tokens):\n",
    "                if p_tok not in synonym:\n",
    "                    continue\n",
    "                \n",
    "                if is_tidak(p_tok):\n",
    "                    continue\n",
    "                \n",
    "                if synonym[h_tok] == synonym[p_tok]:\n",
    "                    has_related = True\n",
    "                    break\n",
    "            \n",
    "            if not has_related:\n",
    "                num_unrelated_word += 1\n",
    "\n",
    "        unrelated_words.append(num_unrelated_word)\n",
    "    \n",
    "    df['num_unrelated_words'] = unrelated_words\n",
    "    return df\n"
   ]
  },
  {
   "cell_type": "code",
   "execution_count": null,
   "metadata": {
    "colab": {
     "base_uri": "https://localhost:8080/",
     "height": 449
    },
    "id": "_pHkJhW8642Q",
    "outputId": "691ff125-2fb4-442a-c7fe-c87edb3826ec"
   },
   "outputs": [
    {
     "data": {
      "text/html": [
       "<div>\n",
       "<style scoped>\n",
       "    .dataframe tbody tr th:only-of-type {\n",
       "        vertical-align: middle;\n",
       "    }\n",
       "\n",
       "    .dataframe tbody tr th {\n",
       "        vertical-align: top;\n",
       "    }\n",
       "\n",
       "    .dataframe thead th {\n",
       "        text-align: right;\n",
       "    }\n",
       "</style>\n",
       "<table border=\"1\" class=\"dataframe\">\n",
       "  <thead>\n",
       "    <tr style=\"text-align: right;\">\n",
       "      <th></th>\n",
       "      <th>premis</th>\n",
       "      <th>hipotesis</th>\n",
       "    </tr>\n",
       "    <tr>\n",
       "      <th>id</th>\n",
       "      <th></th>\n",
       "      <th></th>\n",
       "    </tr>\n",
       "  </thead>\n",
       "  <tbody>\n",
       "    <tr>\n",
       "      <th>0</th>\n",
       "      <td>ahli paleontologi thomas mãrs dan timnya sedan...</td>\n",
       "      <td>thomas mãrs adalah ahli paleontologi</td>\n",
       "    </tr>\n",
       "    <tr>\n",
       "      <th>1</th>\n",
       "      <td>ahli paleontologi thomas mãrs dan timnya sedan...</td>\n",
       "      <td>thomas mãrs memimpin timnya dengan baik</td>\n",
       "    </tr>\n",
       "    <tr>\n",
       "      <th>2</th>\n",
       "      <td>ahli paleontologi thomas mãrs dan timnya sedan...</td>\n",
       "      <td>thomas mãrs seorang diri sedang dalam misi unt...</td>\n",
       "    </tr>\n",
       "    <tr>\n",
       "      <th>3</th>\n",
       "      <td>biaya yang diperlukan saat itu adalah sebesar ...</td>\n",
       "      <td>biaya yang diperlukan bernilai dolar saat itu</td>\n",
       "    </tr>\n",
       "    <tr>\n",
       "      <th>4</th>\n",
       "      <td>biaya yang diperlukan saat itu adalah sebesar ...</td>\n",
       "      <td>biaya itu belum terkumpul</td>\n",
       "    </tr>\n",
       "  </tbody>\n",
       "</table>\n",
       "</div>"
      ],
      "text/plain": [
       "                                               premis                                          hipotesis\n",
       "id                                                                                                      \n",
       "0   ahli paleontologi thomas mãrs dan timnya sedan...               thomas mãrs adalah ahli paleontologi\n",
       "1   ahli paleontologi thomas mãrs dan timnya sedan...            thomas mãrs memimpin timnya dengan baik\n",
       "2   ahli paleontologi thomas mãrs dan timnya sedan...  thomas mãrs seorang diri sedang dalam misi unt...\n",
       "3   biaya yang diperlukan saat itu adalah sebesar ...      biaya yang diperlukan bernilai dolar saat itu\n",
       "4   biaya yang diperlukan saat itu adalah sebesar ...                          biaya itu belum terkumpul"
      ]
     },
     "metadata": {
      "tags": []
     },
     "output_type": "display_data"
    },
    {
     "data": {
      "text/html": [
       "<div>\n",
       "<style scoped>\n",
       "    .dataframe tbody tr th:only-of-type {\n",
       "        vertical-align: middle;\n",
       "    }\n",
       "\n",
       "    .dataframe tbody tr th {\n",
       "        vertical-align: top;\n",
       "    }\n",
       "\n",
       "    .dataframe thead th {\n",
       "        text-align: right;\n",
       "    }\n",
       "</style>\n",
       "<table border=\"1\" class=\"dataframe\">\n",
       "  <thead>\n",
       "    <tr style=\"text-align: right;\">\n",
       "      <th></th>\n",
       "      <th>premis</th>\n",
       "      <th>hipotesis</th>\n",
       "    </tr>\n",
       "    <tr>\n",
       "      <th>id</th>\n",
       "      <th></th>\n",
       "      <th></th>\n",
       "    </tr>\n",
       "  </thead>\n",
       "  <tbody>\n",
       "    <tr>\n",
       "      <th>0</th>\n",
       "      <td>barrichello dengan tangkas mengambil alih p1 d...</td>\n",
       "      <td>barrichello menang</td>\n",
       "    </tr>\n",
       "    <tr>\n",
       "      <th>1</th>\n",
       "      <td>barrichello dengan tangkas mengambil alih p1 d...</td>\n",
       "      <td>barrichello mengambil alih p1</td>\n",
       "    </tr>\n",
       "    <tr>\n",
       "      <th>2</th>\n",
       "      <td>wakil bupati ngawi ony anwar harsono menilai b...</td>\n",
       "      <td>benteng pendem berpotensi untuk dijadikan caga...</td>\n",
       "    </tr>\n",
       "    <tr>\n",
       "      <th>3</th>\n",
       "      <td>wakil bupati ngawi ony anwar harsono menilai b...</td>\n",
       "      <td>benteng pendem ditemukan barubaru ini</td>\n",
       "    </tr>\n",
       "    <tr>\n",
       "      <th>4</th>\n",
       "      <td>wakil bupati ngawi ony anwar harsono menilai b...</td>\n",
       "      <td>benteng pendem tidak berpotensi untuk dijadika...</td>\n",
       "    </tr>\n",
       "  </tbody>\n",
       "</table>\n",
       "</div>"
      ],
      "text/plain": [
       "                                               premis                                          hipotesis\n",
       "id                                                                                                      \n",
       "0   barrichello dengan tangkas mengambil alih p1 d...                                 barrichello menang\n",
       "1   barrichello dengan tangkas mengambil alih p1 d...                      barrichello mengambil alih p1\n",
       "2   wakil bupati ngawi ony anwar harsono menilai b...  benteng pendem berpotensi untuk dijadikan caga...\n",
       "3   wakil bupati ngawi ony anwar harsono menilai b...              benteng pendem ditemukan barubaru ini\n",
       "4   wakil bupati ngawi ony anwar harsono menilai b...  benteng pendem tidak berpotensi untuk dijadika..."
      ]
     },
     "metadata": {
      "tags": []
     },
     "output_type": "display_data"
    }
   ],
   "source": [
    "# Feature Extraction\n",
    "\n",
    "train_X = train_df[['premis','hipotesis']]\n",
    "train_y = train_df['label']\n",
    "\n",
    "train_X_temp = train_X.copy(deep=True)\n",
    "test_X_temp = test_df.copy(deep=True)\n",
    "\n",
    "train_X_temp = lowercase(train_X_temp)\n",
    "test_X_temp = lowercase(test_X_temp)\n",
    "\n",
    "train_X_temp = del_tanda(train_X_temp)\n",
    "test_X_temp = del_tanda(test_X_temp)\n",
    "\n",
    "# Buka ini jika menggunakan Embedding Tensorflow\n",
    "\n",
    "# train_X_temp = map2synonym(train_X_temp)\n",
    "# test_X_temp = map2synonym(test_X_temp)\n",
    "\n",
    "# train_X_temp = stem(train_X_temp)\n",
    "# test_X_temp = stem(test_X_temp)\n",
    "\n",
    "# train_X_temp = map2synonym(train_X_temp, after_stem=True)\n",
    "# test_X_temp = map2synonym(test_X_temp, after_stem=True)\n",
    "\n",
    "train_X_temp = num2word(train_X_temp)\n",
    "test_X_temp = num2word(test_X_temp)\n",
    "\n",
    "train_X_use = train_X_temp.copy(deep=True)\n",
    "test_X_use = test_X_temp.copy(deep=True)\n",
    "\n",
    "display(train_X_use.head())\n",
    "display(test_X_use.head())"
   ]
  },
  {
   "cell_type": "markdown",
   "metadata": {
    "id": "0LejktPyxMHw"
   },
   "source": [
    "# Pembangunan Korpus untuk Tokenizer\n",
    "Hanya digunakan jika menggunakan Embedding Tensorflow"
   ]
  },
  {
   "cell_type": "code",
   "execution_count": null,
   "metadata": {
    "id": "lD180CNo79W8"
   },
   "outputs": [],
   "source": [
    "# corpus = train_X_use['premis'].values\n",
    "# corpus = np.concatenate((corpus, train_X_use['hipotesis'].values))\n",
    "# corpus = np.concatenate((corpus, test_X_use['premis'].values))\n",
    "# corpus = np.concatenate((corpus, test_X_use['hipotesis'].values))\n",
    "\n",
    "# display(corpus)"
   ]
  },
  {
   "cell_type": "code",
   "execution_count": null,
   "metadata": {
    "id": "AiVd8VHb9fld"
   },
   "outputs": [],
   "source": [
    "# def encode_sentences(tokenizer, sentences):\n",
    "#     result = []\n",
    "#     for line in sentences:\n",
    "#         result.append(tokenizer.texts_to_sequences([line])[0])\n",
    "    \n",
    "#     return np.array(result)"
   ]
  },
  {
   "cell_type": "code",
   "execution_count": null,
   "metadata": {
    "id": "I3nXdB367ip1"
   },
   "outputs": [],
   "source": [
    "# vocab_size = 7000\n",
    "# oov_tok = '<OOV>'\n",
    "\n",
    "# tokenizer = Tokenizer(num_words = vocab_size, oov_token=oov_tok)\n",
    "# tokenizer.fit_on_texts(corpus)\n",
    "\n",
    "# total_words = len(tokenizer.word_index) + 1\n",
    "\n",
    "# enc_premis_train = encode_sentences(tokenizer, train_X_use['premis'].values)\n",
    "# enc_hipotesis_train = encode_sentences(tokenizer, train_X_use['hipotesis'].values)\n",
    "# enc_premis_test = encode_sentences(tokenizer, test_X_use['premis'].values)\n",
    "# enc_hipotesis_test = encode_sentences(tokenizer, test_X_use['hipotesis'].values)\n",
    "\n",
    "# display(enc_premis_train)\n",
    "# display(enc_hipotesis_train)\n",
    "# display(enc_premis_test)\n",
    "# display(enc_hipotesis_test)"
   ]
  },
  {
   "cell_type": "markdown",
   "metadata": {
    "id": "Yaznr7jexTrp"
   },
   "source": [
    "# Embedding Menggunakan Word2Vec\n",
    "Hanya digunakan jika tidak menggunakan Embedding Tensorflow"
   ]
  },
  {
   "cell_type": "code",
   "execution_count": null,
   "metadata": {
    "colab": {
     "base_uri": "https://localhost:8080/",
     "height": 72
    },
    "id": "UJbVviiF7kKI",
    "outputId": "cd3b9f6a-32d7-4ea7-c9f5-7ef6a60ce17a"
   },
   "outputs": [
    {
     "name": "stderr",
     "output_type": "stream",
     "text": [
      "/usr/local/lib/python3.6/dist-packages/smart_open/smart_open_lib.py:253: UserWarning: This function is deprecated, use smart_open.open instead. See the migration notes for details: https://github.com/RaRe-Technologies/smart_open/blob/master/README.rst#migrating-to-the-new-open-function\n",
      "  'See the migration notes for details: %s' % _MIGRATION_NOTES_URL\n"
     ]
    }
   ],
   "source": [
    "from gensim.models import Word2Vec\n",
    "\n",
    "modelword2vec = Word2Vec.load(f'{drivedir}word2vec/idwiki_word2vec_300.model')"
   ]
  },
  {
   "cell_type": "code",
   "execution_count": null,
   "metadata": {
    "colab": {
     "base_uri": "https://localhost:8080/",
     "height": 312
    },
    "id": "1AOEsW1siGhb",
    "outputId": "73dade83-8fad-4552-e843-d19540db4c3a"
   },
   "outputs": [
    {
     "name": "stdout",
     "output_type": "stream",
     "text": [
      "Collecting stanza\n",
      "\u001b[?25l  Downloading https://files.pythonhosted.org/packages/27/9c/60689521a971a57dd02d2925105efedefa9dccd76c9a0b92566683d43e89/stanza-1.0.1-py3-none-any.whl (193kB)\n",
      "\u001b[K     |████████████████████████████████| 194kB 12.0MB/s eta 0:00:01\n",
      "\u001b[?25hRequirement already satisfied: torch>=1.3.0 in /usr/local/lib/python3.6/dist-packages (from stanza) (1.5.1+cu101)\n",
      "Requirement already satisfied: tqdm in /usr/local/lib/python3.6/dist-packages (from stanza) (4.41.1)\n",
      "Requirement already satisfied: requests in /usr/local/lib/python3.6/dist-packages (from stanza) (2.23.0)\n",
      "Requirement already satisfied: numpy in /usr/local/lib/python3.6/dist-packages (from stanza) (1.18.5)\n",
      "Requirement already satisfied: protobuf in /usr/local/lib/python3.6/dist-packages (from stanza) (3.10.0)\n",
      "Requirement already satisfied: future in /usr/local/lib/python3.6/dist-packages (from torch>=1.3.0->stanza) (0.16.0)\n",
      "Requirement already satisfied: idna<3,>=2.5 in /usr/local/lib/python3.6/dist-packages (from requests->stanza) (2.9)\n",
      "Requirement already satisfied: urllib3!=1.25.0,!=1.25.1,<1.26,>=1.21.1 in /usr/local/lib/python3.6/dist-packages (from requests->stanza) (1.24.3)\n",
      "Requirement already satisfied: chardet<4,>=3.0.2 in /usr/local/lib/python3.6/dist-packages (from requests->stanza) (3.0.4)\n",
      "Requirement already satisfied: certifi>=2017.4.17 in /usr/local/lib/python3.6/dist-packages (from requests->stanza) (2020.6.20)\n",
      "Requirement already satisfied: six>=1.9 in /usr/local/lib/python3.6/dist-packages (from protobuf->stanza) (1.12.0)\n",
      "Requirement already satisfied: setuptools in /usr/local/lib/python3.6/dist-packages (from protobuf->stanza) (47.3.1)\n",
      "Installing collected packages: stanza\n",
      "Successfully installed stanza-1.0.1\n"
     ]
    }
   ],
   "source": [
    "!pip install stanza"
   ]
  },
  {
   "cell_type": "code",
   "execution_count": null,
   "metadata": {
    "colab": {
     "base_uri": "https://localhost:8080/",
     "height": 106
    },
    "id": "hl2icq8d7Yzj",
    "outputId": "4747ca5f-3a32-4c0a-eae4-f9d518ca6cae"
   },
   "outputs": [
    {
     "name": "stderr",
     "output_type": "stream",
     "text": [
      "/usr/local/lib/python3.6/dist-packages/ipykernel_launcher.py:5: DeprecationWarning: Call to deprecated `__contains__` (Method will be removed in 4.0.0, use self.wv.__contains__() instead).\n",
      "  \"\"\"\n",
      "/usr/local/lib/python3.6/dist-packages/ipykernel_launcher.py:6: DeprecationWarning: Call to deprecated `__getitem__` (Method will be removed in 4.0.0, use self.wv.__getitem__() instead).\n",
      "  \n"
     ]
    }
   ],
   "source": [
    "def encode_embed_single(modelword2vec, sentence):\n",
    "    words = sentence.split()\n",
    "    ans = []\n",
    "    for i, w in enumerate(words):\n",
    "        if w in modelword2vec:\n",
    "            vec = modelword2vec[w]\n",
    "            ans.append(vec)\n",
    "        else:\n",
    "            pass\n",
    "    return np.array(ans)\n",
    "\n",
    "def encode_embed(modelword2vec, sentences):\n",
    "    ans = []\n",
    "    for i, sentence in enumerate(sentences):\n",
    "        vec = encode_embed_single(modelword2vec, sentence)\n",
    "        ans.append(vec)\n",
    "    return np.array(ans)\n",
    "\n",
    "enc_premis_train = encode_embed(modelword2vec, train_X_use['premis'].values)\n",
    "enc_hipotesis_train = encode_embed(modelword2vec, train_X_use['hipotesis'].values)\n",
    "enc_premis_test = encode_embed(modelword2vec, test_X_use['premis'].values)\n",
    "enc_hipotesis_test = encode_embed(modelword2vec, test_X_use['hipotesis'].values)"
   ]
  },
  {
   "cell_type": "markdown",
   "metadata": {
    "id": "bTIPuTsXykC7"
   },
   "source": [
    "# Padding Sequence Agar Berukuran Sama "
   ]
  },
  {
   "cell_type": "code",
   "execution_count": null,
   "metadata": {
    "colab": {
     "base_uri": "https://localhost:8080/",
     "height": 260
    },
    "id": "fyptvWaP_MlO",
    "outputId": "9b5d2515-730b-4a55-f6c4-74f6996def35"
   },
   "outputs": [
    {
     "data": {
      "text/plain": [
       "(6726, 30, 100)"
      ]
     },
     "metadata": {
      "tags": []
     },
     "output_type": "display_data"
    },
    {
     "data": {
      "text/plain": [
       "array([[[ 0.        ,  0.        ,  0.        , ...,  0.        ,\n",
       "          0.        ,  0.        ],\n",
       "        [ 0.        ,  0.        ,  0.        , ...,  0.        ,\n",
       "          0.        ,  0.        ],\n",
       "        [ 0.        ,  0.        ,  0.        , ...,  0.        ,\n",
       "          0.        ,  0.        ],\n",
       "        ...,\n",
       "        [-1.48866618,  0.22333029, -5.59925365, ..., -1.05732608,\n",
       "          2.0856812 , -2.97090673],\n",
       "        [-0.78160381, -6.00154066,  0.96326679, ...,  0.37162519,\n",
       "          0.35521796,  0.36866537],\n",
       "        [-0.07251085, -0.66207069, -0.23430449, ...,  0.24193813,\n",
       "         -0.0676286 , -0.95855701]]])"
      ]
     },
     "metadata": {
      "tags": []
     },
     "output_type": "display_data"
    }
   ],
   "source": [
    "max_sequence_len = 30\n",
    "\n",
    "enc_premis_train = np.array(pad_sequences(enc_premis_train, maxlen=max_sequence_len, dtype='float64'))\n",
    "enc_hipotesis_train = np.array(pad_sequences(enc_hipotesis_train, maxlen=max_sequence_len, dtype='float64'))\n",
    "enc_premis_test = np.array(pad_sequences(enc_premis_test, maxlen=max_sequence_len, dtype='float64'))\n",
    "enc_hipotesis_test = np.array(pad_sequences(enc_hipotesis_test, maxlen=max_sequence_len, dtype='float64'))\n",
    "\n",
    "display(enc_premis_train.shape)\n",
    "display(enc_hipotesis_train[:1])"
   ]
  },
  {
   "cell_type": "markdown",
   "metadata": {
    "id": "NepdBteSy4M1"
   },
   "source": [
    "# Ordinal Encode Kategori"
   ]
  },
  {
   "cell_type": "code",
   "execution_count": null,
   "metadata": {
    "colab": {
     "base_uri": "https://localhost:8080/",
     "height": 242
    },
    "id": "agkWVohcBJkw",
    "outputId": "04f1cc79-440b-4149-cf7e-f6903f2150af"
   },
   "outputs": [
    {
     "name": "stdout",
     "output_type": "stream",
     "text": [
      "id\n",
      "0       1\n",
      "1       0\n",
      "2       2\n",
      "3       1\n",
      "4       0\n",
      "       ..\n",
      "6721    0\n",
      "6722    2\n",
      "6723    1\n",
      "6724    0\n",
      "6725    2\n",
      "Name: label, Length: 6726, dtype: int64\n"
     ]
    }
   ],
   "source": [
    "categories = list(set(train_y))\n",
    "cat_map = {}\n",
    "for i, c in enumerate(categories):\n",
    "    cat_map[c] = i\n",
    "\n",
    "train_y_ord = train_y.apply(lambda x : cat_map[x])\n",
    "print(train_y_ord)"
   ]
  },
  {
   "cell_type": "markdown",
   "metadata": {
    "id": "MgVG7NxdzFhI"
   },
   "source": [
    "# Pembangunan Model"
   ]
  },
  {
   "cell_type": "code",
   "execution_count": null,
   "metadata": {
    "id": "r_Tl2qikMSVy"
   },
   "outputs": [],
   "source": [
    "def build_model():\n",
    "    input_premis = tf.keras.Input(shape=(max_sequence_len, 100))\n",
    "    input_hypot = tf.keras.Input(shape=(max_sequence_len, 100))\n",
    "\n",
    "    # Hanya digunakan jika tidak menggunakan Word2Vec\n",
    "\n",
    "    # token_embedding = tf.keras.layers.Embedding(total_words, 16, input_length = max_sequence_len)\n",
    "    # premis_embed = token_embedding(input_premis)\n",
    "    # hypot_embed = token_embedding(input_hypot)\n",
    "\n",
    "    # dropout = tf.keras.layers.Dropout(0.4)\n",
    "    # premis_embed = dropout(premis_embed)\n",
    "    # hypot_embed = dropout(hypot_embed)\n",
    "\n",
    "    cnn_layer = tf.keras.layers.Conv1D(\n",
    "        filters=16,\n",
    "        kernel_size=2,\n",
    "        activation=tf.nn.relu)\n",
    "    \n",
    "    premis_seq_encode = cnn_layer(input_premis)\n",
    "    hypot_seq_encode = cnn_layer(input_hypot)\n",
    "\n",
    "    pooling_layer = tf.keras.layers.MaxPooling1D(pool_size=4)\n",
    "    premis_pool = pooling_layer(premis_seq_encode)\n",
    "    hypot_pool = pooling_layer(hypot_seq_encode)\n",
    "\n",
    "    # Uji Coba Penggantian Recurerent Unit\n",
    "    # lstm_layer = tf.keras.layers.Bidirectional(tf.keras.layers.LSTM(64, return_sequences=True))\n",
    "    \n",
    "    lstm_layer = tf.keras.layers.Bidirectional(tf.keras.layers.GRU(64, return_sequences=True))\n",
    "    premis_pool = lstm_layer(premis_pool)\n",
    "    hypot_pool = lstm_layer(hypot_pool)\n",
    "\n",
    "    z = tf.keras.layers.Concatenate()(\n",
    "        [premis_pool, hypot_pool])\n",
    "    \n",
    "    z = tf.keras.layers.Dropout(0.4)(z)\n",
    "\n",
    "    z = tf.keras.layers.Bidirectional(tf.keras.layers.LSTM(2 * 64))(z)\n",
    "\n",
    "    z = tf.keras.layers.Dense(128, activation=tf.nn.tanh)(z)\n",
    "    z = tf.keras.layers.Dropout(0.3)(z)\n",
    "    z = tf.keras.layers.Dense(32, activation=tf.nn.tanh)(z)\n",
    "    z = tf.keras.layers.Dense(8, activation=tf.nn.tanh)(z)\n",
    "    z = tf.keras.layers.Dense(3, activation=tf.nn.softmax)(z)\n",
    "    model = tf.keras.Model(inputs = [input_premis, input_hypot], outputs = z)\n",
    "\n",
    "    model.compile(\n",
    "        optimizer='adam',\n",
    "        loss='sparse_categorical_crossentropy',\n",
    "        metrics=['acc']\n",
    "    )\n",
    "\n",
    "    return model"
   ]
  },
  {
   "cell_type": "code",
   "execution_count": null,
   "metadata": {
    "id": "f1HsB_EHBGEG"
   },
   "outputs": [],
   "source": [
    "model = build_model()"
   ]
  },
  {
   "cell_type": "code",
   "execution_count": null,
   "metadata": {
    "colab": {
     "base_uri": "https://localhost:8080/",
     "height": 676
    },
    "id": "oBeWQIytEE7U",
    "outputId": "d45a8d10-9326-4634-e5d6-71fe40caed2f"
   },
   "outputs": [
    {
     "name": "stdout",
     "output_type": "stream",
     "text": [
      "Model: \"model\"\n",
      "__________________________________________________________________________________________________\n",
      "Layer (type)                    Output Shape         Param #     Connected to                     \n",
      "==================================================================================================\n",
      "input_1 (InputLayer)            [(None, 30, 100)]    0                                            \n",
      "__________________________________________________________________________________________________\n",
      "input_2 (InputLayer)            [(None, 30, 100)]    0                                            \n",
      "__________________________________________________________________________________________________\n",
      "conv1d (Conv1D)                 (None, 29, 16)       3216        input_1[0][0]                    \n",
      "                                                                 input_2[0][0]                    \n",
      "__________________________________________________________________________________________________\n",
      "max_pooling1d (MaxPooling1D)    (None, 7, 16)        0           conv1d[0][0]                     \n",
      "                                                                 conv1d[1][0]                     \n",
      "__________________________________________________________________________________________________\n",
      "bidirectional (Bidirectional)   (None, 7, 128)       31488       max_pooling1d[0][0]              \n",
      "                                                                 max_pooling1d[1][0]              \n",
      "__________________________________________________________________________________________________\n",
      "concatenate (Concatenate)       (None, 7, 256)       0           bidirectional[0][0]              \n",
      "                                                                 bidirectional[1][0]              \n",
      "__________________________________________________________________________________________________\n",
      "dropout (Dropout)               (None, 7, 256)       0           concatenate[0][0]                \n",
      "__________________________________________________________________________________________________\n",
      "bidirectional_1 (Bidirectional) (None, 256)          394240      dropout[0][0]                    \n",
      "__________________________________________________________________________________________________\n",
      "dense (Dense)                   (None, 128)          32896       bidirectional_1[0][0]            \n",
      "__________________________________________________________________________________________________\n",
      "dropout_1 (Dropout)             (None, 128)          0           dense[0][0]                      \n",
      "__________________________________________________________________________________________________\n",
      "dense_1 (Dense)                 (None, 32)           4128        dropout_1[0][0]                  \n",
      "__________________________________________________________________________________________________\n",
      "dense_2 (Dense)                 (None, 8)            264         dense_1[0][0]                    \n",
      "__________________________________________________________________________________________________\n",
      "dense_3 (Dense)                 (None, 3)            27          dense_2[0][0]                    \n",
      "==================================================================================================\n",
      "Total params: 466,259\n",
      "Trainable params: 466,259\n",
      "Non-trainable params: 0\n",
      "__________________________________________________________________________________________________\n"
     ]
    }
   ],
   "source": [
    "model.summary()"
   ]
  },
  {
   "cell_type": "markdown",
   "metadata": {
    "id": "IeOrl1k4zcTC"
   },
   "source": [
    "# Training Model"
   ]
  },
  {
   "cell_type": "code",
   "execution_count": null,
   "metadata": {
    "id": "3DqlxCFUCD9H"
   },
   "outputs": [],
   "source": [
    "from matplotlib import pyplot as plt\n",
    "\n",
    "def train(model, train_dataset, valid_dataset):\n",
    "    history = model.fit(\n",
    "        x = train_dataset,\n",
    "        # x = [enc_premis_train, enc_hipotesis_train],\n",
    "        # y = train_y_ord,\n",
    "        y = y_train,\n",
    "        epochs = 40,\n",
    "        batch_size=32,\n",
    "        validation_data = valid_dataset\n",
    "    )\n",
    "\n",
    "    plt.figure(figsize=(20,10))\n",
    "    plt.subplot(1, 2, 1)\n",
    "    plt.suptitle('Loss', fontsize=10)\n",
    "    plt.ylabel('Loss', fontsize=16)\n",
    "    plt.plot(history.history['loss'], label='Training Loss')\n",
    "    plt.plot(history.history['val_loss'], label='Validation Loss')\n",
    "    plt.legend(loc='upper right')\n",
    "\n",
    "    plt.subplot(1, 2, 2)\n",
    "    plt.ylabel('Accuracy', fontsize=16)\n",
    "    plt.plot(history.history['acc'], label='Training Accuracy')\n",
    "    plt.plot(history.history['val_acc'], label='Validation Accuracy')\n",
    "    plt.legend(loc='lower right')\n",
    "    plt.show()\n",
    "\n",
    "    return history"
   ]
  },
  {
   "cell_type": "code",
   "execution_count": null,
   "metadata": {
    "id": "3VG7Fe6vPzBP"
   },
   "outputs": [],
   "source": [
    "X_train, X_val, y_train, y_val = train_test_split(\n",
    "        np.stack([enc_premis_train, enc_hipotesis_train], axis=1), train_y_ord, test_size = 0.2)"
   ]
  },
  {
   "cell_type": "code",
   "execution_count": null,
   "metadata": {
    "colab": {
     "base_uri": "https://localhost:8080/",
     "height": 1000
    },
    "id": "0kLkVBp8dZ9n",
    "outputId": "b39b29c2-5bf1-4c7e-9711-8a2dbd0e3f28"
   },
   "outputs": [
    {
     "name": "stdout",
     "output_type": "stream",
     "text": [
      "Epoch 1/40\n",
      "169/169 [==============================] - 4s 22ms/step - loss: 1.0285 - acc: 0.4368 - val_loss: 0.9698 - val_acc: 0.4851\n",
      "Epoch 2/40\n",
      "169/169 [==============================] - 2s 13ms/step - loss: 0.9398 - acc: 0.5041 - val_loss: 0.9711 - val_acc: 0.4814\n",
      "Epoch 3/40\n",
      "169/169 [==============================] - 2s 13ms/step - loss: 0.9246 - acc: 0.5121 - val_loss: 0.9655 - val_acc: 0.4829\n",
      "Epoch 4/40\n",
      "169/169 [==============================] - 2s 14ms/step - loss: 0.9074 - acc: 0.5227 - val_loss: 0.9763 - val_acc: 0.4955\n",
      "Epoch 5/40\n",
      "169/169 [==============================] - 2s 13ms/step - loss: 0.8955 - acc: 0.5374 - val_loss: 0.9752 - val_acc: 0.4747\n",
      "Epoch 6/40\n",
      "169/169 [==============================] - 2s 14ms/step - loss: 0.8758 - acc: 0.5481 - val_loss: 1.0144 - val_acc: 0.4874\n",
      "Epoch 7/40\n",
      "169/169 [==============================] - 2s 13ms/step - loss: 0.8530 - acc: 0.5751 - val_loss: 1.0024 - val_acc: 0.4822\n",
      "Epoch 8/40\n",
      "169/169 [==============================] - 2s 13ms/step - loss: 0.8336 - acc: 0.5916 - val_loss: 1.0310 - val_acc: 0.5015\n",
      "Epoch 9/40\n",
      "169/169 [==============================] - 2s 13ms/step - loss: 0.8084 - acc: 0.6037 - val_loss: 1.0297 - val_acc: 0.4903\n",
      "Epoch 10/40\n",
      "169/169 [==============================] - 2s 13ms/step - loss: 0.7868 - acc: 0.6290 - val_loss: 1.0687 - val_acc: 0.5074\n",
      "Epoch 11/40\n",
      "169/169 [==============================] - 2s 13ms/step - loss: 0.7735 - acc: 0.6283 - val_loss: 1.0586 - val_acc: 0.4941\n",
      "Epoch 12/40\n",
      "169/169 [==============================] - 2s 13ms/step - loss: 0.7443 - acc: 0.6591 - val_loss: 1.0601 - val_acc: 0.4955\n",
      "Epoch 13/40\n",
      "169/169 [==============================] - 2s 13ms/step - loss: 0.7203 - acc: 0.6736 - val_loss: 1.1557 - val_acc: 0.4948\n",
      "Epoch 14/40\n",
      "169/169 [==============================] - 2s 13ms/step - loss: 0.6963 - acc: 0.6831 - val_loss: 1.1388 - val_acc: 0.4844\n",
      "Epoch 15/40\n",
      "169/169 [==============================] - 2s 13ms/step - loss: 0.6678 - acc: 0.6965 - val_loss: 1.1955 - val_acc: 0.4926\n",
      "Epoch 16/40\n",
      "169/169 [==============================] - 2s 14ms/step - loss: 0.6418 - acc: 0.7180 - val_loss: 1.1797 - val_acc: 0.4896\n",
      "Epoch 17/40\n",
      "169/169 [==============================] - 2s 13ms/step - loss: 0.5979 - acc: 0.7349 - val_loss: 1.3726 - val_acc: 0.4807\n",
      "Epoch 18/40\n",
      "169/169 [==============================] - 2s 14ms/step - loss: 0.5881 - acc: 0.7416 - val_loss: 1.3727 - val_acc: 0.4487\n",
      "Epoch 19/40\n",
      "169/169 [==============================] - 2s 13ms/step - loss: 0.5486 - acc: 0.7691 - val_loss: 1.4017 - val_acc: 0.4658\n",
      "Epoch 20/40\n",
      "169/169 [==============================] - 2s 13ms/step - loss: 0.5032 - acc: 0.7918 - val_loss: 1.4819 - val_acc: 0.4480\n",
      "Epoch 21/40\n",
      "169/169 [==============================] - 2s 13ms/step - loss: 0.4815 - acc: 0.7944 - val_loss: 1.5602 - val_acc: 0.4651\n",
      "Epoch 22/40\n",
      "169/169 [==============================] - 2s 13ms/step - loss: 0.4541 - acc: 0.8123 - val_loss: 1.6421 - val_acc: 0.4346\n",
      "Epoch 23/40\n",
      "169/169 [==============================] - 2s 13ms/step - loss: 0.4155 - acc: 0.8323 - val_loss: 1.6995 - val_acc: 0.4547\n",
      "Epoch 24/40\n",
      "169/169 [==============================] - 2s 13ms/step - loss: 0.3809 - acc: 0.8465 - val_loss: 1.8516 - val_acc: 0.4502\n",
      "Epoch 25/40\n",
      "169/169 [==============================] - 2s 13ms/step - loss: 0.3411 - acc: 0.8723 - val_loss: 1.7901 - val_acc: 0.4487\n",
      "Epoch 26/40\n",
      "169/169 [==============================] - 2s 13ms/step - loss: 0.3529 - acc: 0.8600 - val_loss: 1.9067 - val_acc: 0.4346\n",
      "Epoch 27/40\n",
      "169/169 [==============================] - 2s 13ms/step - loss: 0.3181 - acc: 0.8797 - val_loss: 1.9533 - val_acc: 0.4346\n",
      "Epoch 28/40\n",
      "169/169 [==============================] - 2s 13ms/step - loss: 0.2891 - acc: 0.8909 - val_loss: 2.0478 - val_acc: 0.4376\n",
      "Epoch 29/40\n",
      "169/169 [==============================] - 2s 13ms/step - loss: 0.2715 - acc: 0.8987 - val_loss: 2.0821 - val_acc: 0.4368\n",
      "Epoch 30/40\n",
      "169/169 [==============================] - 2s 13ms/step - loss: 0.2594 - acc: 0.9028 - val_loss: 2.0868 - val_acc: 0.4450\n",
      "Epoch 31/40\n",
      "169/169 [==============================] - 2s 13ms/step - loss: 0.2254 - acc: 0.9232 - val_loss: 2.2146 - val_acc: 0.4428\n",
      "Epoch 32/40\n",
      "169/169 [==============================] - 2s 14ms/step - loss: 0.2409 - acc: 0.9102 - val_loss: 2.2177 - val_acc: 0.4450\n",
      "Epoch 33/40\n",
      "169/169 [==============================] - 2s 13ms/step - loss: 0.2102 - acc: 0.9255 - val_loss: 2.3138 - val_acc: 0.4279\n",
      "Epoch 34/40\n",
      "169/169 [==============================] - 2s 13ms/step - loss: 0.2149 - acc: 0.9229 - val_loss: 2.3513 - val_acc: 0.4346\n",
      "Epoch 35/40\n",
      "169/169 [==============================] - 2s 13ms/step - loss: 0.1857 - acc: 0.9344 - val_loss: 2.3775 - val_acc: 0.4316\n",
      "Epoch 36/40\n",
      "169/169 [==============================] - 2s 13ms/step - loss: 0.1764 - acc: 0.9362 - val_loss: 2.3704 - val_acc: 0.4361\n",
      "Epoch 37/40\n",
      "169/169 [==============================] - 2s 14ms/step - loss: 0.1844 - acc: 0.9338 - val_loss: 2.4561 - val_acc: 0.4212\n",
      "Epoch 38/40\n",
      "169/169 [==============================] - 2s 13ms/step - loss: 0.1877 - acc: 0.9314 - val_loss: 2.4806 - val_acc: 0.4391\n",
      "Epoch 39/40\n",
      "169/169 [==============================] - 2s 13ms/step - loss: 0.1396 - acc: 0.9517 - val_loss: 2.6234 - val_acc: 0.4279\n",
      "Epoch 40/40\n",
      "169/169 [==============================] - 2s 14ms/step - loss: 0.1634 - acc: 0.9401 - val_loss: 2.5029 - val_acc: 0.4331\n"
     ]
    },
    {
     "data": {
      "image/png": "[encoded data removed]",
      "text/plain": [
       "<Figure size 1440x720 with 2 Axes>"
      ]
     },
     "metadata": {
      "needs_background": "light",
      "tags": []
     },
     "output_type": "display_data"
    }
   ],
   "source": [
    "history = train(model, [X_train[:, 0, :], X_train[:, 1, :]], ([X_val[:, 0, :], X_val[:, 1, :]], y_val))"
   ]
  },
  {
   "cell_type": "markdown",
   "metadata": {
    "id": "fvEkfBudzjCX"
   },
   "source": [
    "# Pembuatan Prediksi"
   ]
  },
  {
   "cell_type": "code",
   "execution_count": null,
   "metadata": {
    "colab": {
     "base_uri": "https://localhost:8080/",
     "height": 34
    },
    "id": "Q8mGrPBgjkDr",
    "outputId": "f01a9cd9-5aea-45da-e8da-ac17c5a92186"
   },
   "outputs": [
    {
     "name": "stdout",
     "output_type": "stream",
     "text": [
      "[0 1 1 ... 1 1 2]\n"
     ]
    }
   ],
   "source": [
    "preds = model.predict([enc_premis_test, enc_hipotesis_test])\n",
    "preds = np.argmax(preds, axis=1)\n",
    "print(preds)"
   ]
  },
  {
   "cell_type": "code",
   "execution_count": null,
   "metadata": {
    "colab": {
     "base_uri": "https://localhost:8080/",
     "height": 54
    },
    "id": "fHwxzIdQj0xA",
    "outputId": "4a4a50c2-002d-4f51-8b8e-0e6e380622fc"
   },
   "outputs": [
    {
     "name": "stdout",
     "output_type": "stream",
     "text": [
      "['neutral', 'entailment', 'entailment', 'contradiction', 'contradiction', 'contradiction', 'entailment', 'entailment', 'neutral', 'entailment', 'entailment', 'neutral', 'entailment', 'neutral', 'contradiction', 'neutral', 'contradiction', 'entailment', 'contradiction', 'neutral', 'neutral', 'contradiction', 'contradiction', 'entailment', 'entailment', 'neutral', 'contradiction', 'entailment', 'contradiction', 'entailment', 'neutral', 'neutral', 'neutral', 'entailment', 'contradiction', 'neutral', 'neutral', 'entailment', 'neutral', 'neutral', 'neutral', 'entailment', 'contradiction', 'neutral', 'contradiction', 'neutral', 'contradiction', 'entailment', 'entailment', 'contradiction', 'entailment', 'entailment', 'contradiction', 'contradiction', 'entailment', 'entailment', 'entailment', 'neutral', 'entailment', 'neutral', 'neutral', 'contradiction', 'contradiction', 'entailment', 'entailment', 'contradiction', 'contradiction', 'neutral', 'neutral', 'neutral', 'entailment', 'entailment', 'entailment', 'neutral', 'neutral', 'contradiction', 'neutral', 'neutral', 'neutral', 'entailment', 'entailment', 'entailment', 'neutral', 'neutral', 'entailment', 'entailment', 'neutral', 'entailment', 'neutral', 'neutral', 'contradiction', 'contradiction', 'neutral', 'neutral', 'entailment', 'entailment', 'neutral', 'entailment', 'entailment', 'neutral', 'entailment', 'neutral', 'entailment', 'entailment', 'entailment', 'contradiction', 'neutral', 'entailment', 'entailment', 'entailment', 'neutral', 'entailment', 'entailment', 'entailment', 'neutral', 'neutral', 'entailment', 'entailment', 'entailment', 'neutral', 'neutral', 'entailment', 'neutral', 'entailment', 'neutral', 'neutral', 'neutral', 'neutral', 'neutral', 'entailment', 'entailment', 'contradiction', 'neutral', 'entailment', 'entailment', 'entailment', 'neutral', 'neutral', 'entailment', 'entailment', 'entailment', 'neutral', 'entailment', 'entailment', 'entailment', 'neutral', 'neutral', 'contradiction', 'entailment', 'contradiction', 'entailment', 'entailment', 'contradiction', 'entailment', 'neutral', 'neutral', 'entailment', 'neutral', 'entailment', 'entailment', 'neutral', 'neutral', 'entailment', 'entailment', 'neutral', 'neutral', 'neutral', 'entailment', 'neutral', 'entailment', 'entailment', 'neutral', 'neutral', 'entailment', 'entailment', 'neutral', 'entailment', 'neutral', 'neutral', 'entailment', 'contradiction', 'neutral', 'neutral', 'neutral', 'neutral', 'neutral', 'neutral', 'contradiction', 'entailment', 'contradiction', 'entailment', 'entailment', 'entailment', 'contradiction', 'neutral', 'entailment', 'neutral', 'entailment', 'entailment', 'neutral', 'entailment', 'contradiction', 'neutral', 'neutral', 'entailment', 'neutral', 'entailment', 'contradiction', 'contradiction', 'entailment', 'entailment', 'contradiction', 'contradiction', 'contradiction', 'neutral', 'entailment', 'entailment', 'entailment', 'entailment', 'entailment', 'neutral', 'entailment', 'entailment', 'entailment', 'entailment', 'neutral', 'contradiction', 'neutral', 'contradiction', 'contradiction', 'contradiction', 'entailment', 'neutral', 'entailment', 'entailment', 'entailment', 'entailment', 'entailment', 'neutral', 'entailment', 'neutral', 'neutral', 'neutral', 'neutral', 'entailment', 'entailment', 'contradiction', 'neutral', 'entailment', 'entailment', 'contradiction', 'contradiction', 'entailment', 'neutral', 'entailment', 'neutral', 'neutral', 'neutral', 'entailment', 'contradiction', 'contradiction', 'entailment', 'entailment', 'entailment', 'contradiction', 'entailment', 'neutral', 'neutral', 'neutral', 'entailment', 'neutral', 'neutral', 'neutral', 'neutral', 'contradiction', 'neutral', 'neutral', 'neutral', 'contradiction', 'entailment', 'contradiction', 'contradiction', 'entailment', 'neutral', 'entailment', 'entailment', 'neutral', 'entailment', 'contradiction', 'entailment', 'entailment', 'neutral', 'entailment', 'neutral', 'entailment', 'entailment', 'contradiction', 'neutral', 'neutral', 'entailment', 'entailment', 'neutral', 'entailment', 'entailment', 'entailment', 'contradiction', 'entailment', 'contradiction', 'contradiction', 'contradiction', 'neutral', 'entailment', 'contradiction', 'entailment', 'contradiction', 'entailment', 'entailment', 'entailment', 'entailment', 'neutral', 'entailment', 'neutral', 'entailment', 'contradiction', 'contradiction', 'entailment', 'contradiction', 'neutral', 'neutral', 'entailment', 'contradiction', 'neutral', 'entailment', 'entailment', 'entailment', 'entailment', 'entailment', 'neutral', 'entailment', 'contradiction', 'entailment', 'entailment', 'entailment', 'neutral', 'entailment', 'entailment', 'entailment', 'contradiction', 'entailment', 'neutral', 'contradiction', 'entailment', 'entailment', 'neutral', 'neutral', 'entailment', 'entailment', 'contradiction', 'entailment', 'entailment', 'neutral', 'contradiction', 'neutral', 'contradiction', 'entailment', 'neutral', 'neutral', 'entailment', 'contradiction', 'contradiction', 'contradiction', 'contradiction', 'contradiction', 'contradiction', 'neutral', 'entailment', 'entailment', 'entailment', 'neutral', 'entailment', 'entailment', 'neutral', 'entailment', 'neutral', 'entailment', 'neutral', 'contradiction', 'contradiction', 'contradiction', 'entailment', 'entailment', 'neutral', 'neutral', 'entailment', 'neutral', 'neutral', 'contradiction', 'contradiction', 'contradiction', 'contradiction', 'entailment', 'neutral', 'neutral', 'entailment', 'contradiction', 'entailment', 'entailment', 'entailment', 'contradiction', 'contradiction', 'contradiction', 'contradiction', 'contradiction', 'entailment', 'neutral', 'entailment', 'contradiction', 'entailment', 'entailment', 'neutral', 'contradiction', 'contradiction', 'contradiction', 'entailment', 'neutral', 'contradiction', 'neutral', 'neutral', 'entailment', 'entailment', 'neutral', 'neutral', 'contradiction', 'contradiction', 'neutral', 'entailment', 'contradiction', 'entailment', 'entailment', 'contradiction', 'contradiction', 'entailment', 'neutral', 'neutral', 'entailment', 'neutral', 'entailment', 'neutral', 'entailment', 'entailment', 'entailment', 'neutral', 'entailment', 'contradiction', 'contradiction', 'entailment', 'neutral', 'contradiction', 'entailment', 'entailment', 'entailment', 'entailment', 'contradiction', 'entailment', 'contradiction', 'neutral', 'contradiction', 'neutral', 'neutral', 'contradiction', 'entailment', 'neutral', 'contradiction', 'neutral', 'contradiction', 'entailment', 'entailment', 'entailment', 'entailment', 'entailment', 'contradiction', 'entailment', 'entailment', 'neutral', 'contradiction', 'neutral', 'contradiction', 'neutral', 'neutral', 'contradiction', 'entailment', 'neutral', 'entailment', 'entailment', 'contradiction', 'entailment', 'neutral', 'contradiction', 'entailment', 'neutral', 'contradiction', 'neutral', 'contradiction', 'contradiction', 'neutral', 'entailment', 'contradiction', 'neutral', 'entailment', 'entailment', 'entailment', 'entailment', 'neutral', 'entailment', 'contradiction', 'neutral', 'neutral', 'contradiction', 'entailment', 'neutral', 'contradiction', 'neutral', 'entailment', 'entailment', 'neutral', 'contradiction', 'entailment', 'neutral', 'neutral', 'entailment', 'entailment', 'entailment', 'neutral', 'contradiction', 'entailment', 'neutral', 'contradiction', 'entailment', 'entailment', 'neutral', 'entailment', 'neutral', 'entailment', 'neutral', 'neutral', 'contradiction', 'entailment', 'contradiction', 'contradiction', 'neutral', 'entailment', 'neutral', 'contradiction', 'contradiction', 'neutral', 'contradiction', 'neutral', 'contradiction', 'entailment', 'contradiction', 'neutral', 'entailment', 'neutral', 'neutral', 'contradiction', 'entailment', 'entailment', 'contradiction', 'contradiction', 'entailment', 'contradiction', 'contradiction', 'entailment', 'contradiction', 'neutral', 'neutral', 'neutral', 'entailment', 'entailment', 'entailment', 'entailment', 'neutral', 'contradiction', 'contradiction', 'neutral', 'entailment', 'contradiction', 'entailment', 'contradiction', 'contradiction', 'entailment', 'entailment', 'entailment', 'entailment', 'entailment', 'contradiction', 'contradiction', 'entailment', 'entailment', 'entailment', 'contradiction', 'contradiction', 'entailment', 'entailment', 'entailment', 'entailment', 'contradiction', 'entailment', 'entailment', 'contradiction', 'neutral', 'entailment', 'contradiction', 'neutral', 'contradiction', 'contradiction', 'neutral', 'neutral', 'entailment', 'entailment', 'contradiction', 'entailment', 'contradiction', 'neutral', 'neutral', 'entailment', 'entailment', 'neutral', 'contradiction', 'contradiction', 'neutral', 'contradiction', 'entailment', 'contradiction', 'contradiction', 'entailment', 'neutral', 'neutral', 'neutral', 'entailment', 'contradiction', 'contradiction', 'contradiction', 'entailment', 'contradiction', 'neutral', 'entailment', 'entailment', 'neutral', 'entailment', 'contradiction', 'contradiction', 'neutral', 'neutral', 'neutral', 'contradiction', 'contradiction', 'entailment', 'contradiction', 'neutral', 'contradiction', 'entailment', 'neutral', 'neutral', 'neutral', 'neutral', 'contradiction', 'neutral', 'neutral', 'neutral', 'neutral', 'neutral', 'neutral', 'contradiction', 'neutral', 'neutral', 'neutral', 'neutral', 'neutral', 'neutral', 'entailment', 'neutral', 'entailment', 'entailment', 'entailment', 'neutral', 'entailment', 'contradiction', 'entailment', 'neutral', 'neutral', 'neutral', 'neutral', 'neutral', 'entailment', 'contradiction', 'neutral', 'neutral', 'entailment', 'neutral', 'neutral', 'neutral', 'neutral', 'entailment', 'neutral', 'neutral', 'entailment', 'neutral', 'entailment', 'entailment', 'neutral', 'neutral', 'contradiction', 'neutral', 'neutral', 'neutral', 'neutral', 'neutral', 'neutral', 'neutral', 'neutral', 'neutral', 'neutral', 'neutral', 'contradiction', 'contradiction', 'neutral', 'neutral', 'neutral', 'neutral', 'neutral', 'entailment', 'neutral', 'entailment', 'neutral', 'neutral', 'neutral', 'contradiction', 'neutral', 'neutral', 'entailment', 'contradiction', 'entailment', 'entailment', 'contradiction', 'neutral', 'neutral', 'contradiction', 'neutral', 'entailment', 'neutral', 'contradiction', 'neutral', 'entailment', 'contradiction', 'entailment', 'contradiction', 'entailment', 'contradiction', 'neutral', 'contradiction', 'neutral', 'neutral', 'entailment', 'entailment', 'entailment', 'neutral', 'neutral', 'neutral', 'contradiction', 'contradiction', 'entailment', 'entailment', 'contradiction', 'entailment', 'neutral', 'contradiction', 'entailment', 'contradiction', 'neutral', 'contradiction', 'contradiction', 'neutral', 'contradiction', 'entailment', 'entailment', 'entailment', 'contradiction', 'entailment', 'entailment', 'entailment', 'contradiction', 'entailment', 'neutral', 'neutral', 'neutral', 'entailment', 'entailment', 'contradiction', 'contradiction', 'neutral', 'contradiction', 'neutral', 'entailment', 'neutral', 'neutral', 'contradiction', 'neutral', 'entailment', 'contradiction', 'neutral', 'neutral', 'contradiction', 'contradiction', 'entailment', 'neutral', 'neutral', 'entailment', 'neutral', 'contradiction', 'neutral', 'contradiction', 'contradiction', 'neutral', 'contradiction', 'neutral', 'neutral', 'contradiction', 'entailment', 'neutral', 'entailment', 'contradiction', 'contradiction', 'entailment', 'neutral', 'contradiction', 'entailment', 'entailment', 'entailment', 'entailment', 'entailment', 'entailment', 'neutral', 'contradiction', 'entailment', 'contradiction', 'neutral', 'entailment', 'contradiction', 'neutral', 'contradiction', 'contradiction', 'entailment', 'entailment', 'contradiction', 'entailment', 'contradiction', 'entailment', 'neutral', 'contradiction', 'contradiction', 'contradiction', 'entailment', 'entailment', 'entailment', 'neutral', 'entailment', 'neutral', 'contradiction', 'contradiction', 'entailment', 'neutral', 'contradiction', 'contradiction', 'neutral', 'entailment', 'entailment', 'neutral', 'contradiction', 'entailment', 'contradiction', 'neutral', 'entailment', 'entailment', 'neutral', 'neutral', 'contradiction', 'contradiction', 'neutral', 'contradiction', 'contradiction', 'contradiction', 'neutral', 'entailment', 'neutral', 'neutral', 'entailment', 'entailment', 'neutral', 'entailment', 'entailment', 'neutral', 'entailment', 'entailment', 'neutral', 'neutral', 'neutral', 'entailment', 'neutral', 'entailment', 'entailment', 'entailment', 'neutral', 'entailment', 'neutral', 'entailment', 'entailment', 'entailment', 'neutral', 'neutral', 'contradiction', 'entailment', 'entailment', 'contradiction', 'neutral', 'entailment', 'entailment', 'neutral', 'entailment', 'neutral', 'contradiction', 'entailment', 'neutral', 'entailment', 'neutral', 'neutral', 'entailment', 'entailment', 'entailment', 'contradiction', 'entailment', 'entailment', 'contradiction', 'neutral', 'neutral', 'neutral', 'neutral', 'contradiction', 'entailment', 'contradiction', 'entailment', 'neutral', 'neutral', 'contradiction', 'entailment', 'neutral', 'contradiction', 'contradiction', 'neutral', 'contradiction', 'entailment', 'contradiction', 'contradiction', 'neutral', 'neutral', 'entailment', 'contradiction', 'neutral', 'neutral', 'contradiction', 'contradiction', 'entailment', 'entailment', 'entailment', 'neutral', 'entailment', 'entailment', 'entailment', 'entailment', 'entailment', 'neutral', 'neutral', 'neutral', 'entailment', 'entailment', 'neutral', 'neutral', 'neutral', 'neutral', 'contradiction', 'entailment', 'neutral', 'neutral', 'contradiction', 'entailment', 'neutral', 'entailment', 'entailment', 'contradiction', 'contradiction', 'contradiction', 'entailment', 'entailment', 'contradiction', 'neutral', 'entailment', 'neutral', 'entailment', 'entailment', 'contradiction', 'entailment', 'entailment', 'neutral', 'entailment', 'neutral', 'contradiction', 'contradiction', 'contradiction', 'neutral', 'entailment', 'entailment', 'neutral', 'neutral', 'neutral', 'neutral', 'contradiction', 'entailment', 'neutral', 'neutral', 'neutral', 'entailment', 'contradiction', 'contradiction', 'neutral', 'neutral', 'contradiction', 'neutral', 'neutral', 'neutral', 'neutral', 'entailment', 'contradiction', 'neutral', 'contradiction', 'neutral', 'contradiction', 'neutral', 'entailment', 'entailment', 'neutral', 'entailment', 'neutral', 'neutral', 'entailment', 'contradiction', 'entailment', 'entailment', 'contradiction', 'contradiction', 'entailment', 'neutral', 'neutral', 'neutral', 'contradiction', 'contradiction', 'entailment', 'contradiction', 'neutral', 'entailment', 'contradiction', 'contradiction', 'neutral', 'entailment', 'contradiction', 'entailment', 'contradiction', 'entailment', 'neutral', 'entailment', 'contradiction', 'contradiction', 'contradiction', 'entailment', 'contradiction', 'neutral', 'neutral', 'entailment', 'neutral', 'neutral', 'contradiction', 'entailment', 'entailment', 'contradiction', 'entailment', 'entailment', 'contradiction', 'entailment', 'entailment', 'neutral', 'entailment', 'entailment', 'neutral', 'neutral', 'neutral', 'neutral', 'neutral', 'entailment', 'contradiction', 'entailment', 'entailment', 'entailment', 'neutral', 'contradiction', 'neutral', 'neutral', 'contradiction', 'neutral', 'entailment', 'contradiction', 'contradiction', 'contradiction', 'contradiction', 'entailment', 'neutral', 'entailment', 'contradiction', 'neutral', 'contradiction', 'entailment', 'neutral', 'neutral', 'neutral', 'neutral', 'neutral', 'contradiction', 'contradiction', 'neutral', 'entailment', 'contradiction', 'neutral', 'entailment', 'neutral', 'neutral', 'entailment', 'contradiction', 'contradiction', 'entailment', 'entailment', 'entailment', 'entailment', 'entailment', 'contradiction', 'neutral', 'entailment', 'neutral', 'entailment', 'entailment', 'neutral', 'entailment', 'entailment', 'entailment', 'neutral', 'entailment', 'entailment', 'contradiction', 'contradiction', 'entailment', 'entailment', 'contradiction', 'entailment', 'neutral', 'neutral', 'entailment', 'entailment', 'entailment', 'entailment', 'entailment', 'neutral', 'neutral', 'neutral', 'contradiction', 'contradiction', 'entailment', 'entailment', 'entailment', 'entailment', 'entailment', 'entailment', 'contradiction', 'entailment', 'contradiction', 'neutral', 'neutral', 'entailment', 'contradiction', 'contradiction', 'neutral', 'contradiction', 'entailment', 'contradiction', 'entailment', 'entailment', 'contradiction', 'contradiction', 'entailment', 'entailment', 'neutral', 'entailment', 'contradiction', 'contradiction', 'neutral', 'contradiction', 'entailment', 'contradiction', 'entailment', 'neutral', 'contradiction', 'neutral', 'entailment', 'contradiction', 'entailment', 'contradiction', 'contradiction', 'entailment', 'entailment', 'neutral', 'neutral', 'contradiction', 'contradiction', 'contradiction', 'neutral', 'entailment', 'neutral', 'neutral', 'entailment', 'entailment', 'entailment', 'neutral', 'entailment', 'entailment', 'entailment', 'contradiction', 'entailment', 'entailment', 'neutral', 'neutral', 'contradiction', 'entailment', 'neutral', 'entailment', 'neutral', 'contradiction', 'neutral', 'contradiction', 'entailment', 'neutral', 'contradiction', 'contradiction', 'entailment', 'neutral', 'contradiction', 'entailment', 'contradiction', 'neutral', 'neutral', 'entailment', 'neutral', 'neutral', 'neutral', 'contradiction', 'contradiction', 'neutral', 'entailment', 'neutral', 'entailment', 'entailment', 'contradiction', 'neutral', 'entailment', 'contradiction', 'contradiction', 'contradiction', 'entailment', 'entailment', 'neutral', 'neutral', 'neutral', 'entailment', 'contradiction', 'neutral', 'entailment', 'neutral', 'entailment', 'neutral', 'contradiction', 'contradiction', 'entailment', 'entailment', 'contradiction', 'neutral', 'entailment', 'entailment', 'entailment', 'entailment', 'neutral', 'entailment', 'entailment', 'neutral', 'entailment', 'contradiction', 'neutral', 'contradiction', 'neutral', 'contradiction', 'contradiction', 'contradiction', 'contradiction', 'neutral', 'entailment', 'entailment', 'entailment', 'neutral', 'entailment', 'contradiction', 'neutral', 'neutral', 'contradiction', 'neutral', 'entailment', 'entailment', 'entailment', 'neutral', 'neutral', 'entailment', 'neutral', 'entailment', 'contradiction', 'neutral', 'entailment', 'contradiction', 'entailment', 'entailment', 'entailment', 'contradiction', 'contradiction', 'entailment', 'entailment', 'entailment', 'entailment', 'entailment', 'entailment', 'contradiction', 'neutral', 'neutral', 'entailment', 'entailment', 'neutral', 'entailment', 'contradiction', 'entailment', 'entailment', 'neutral', 'neutral', 'entailment', 'neutral', 'entailment', 'entailment', 'neutral', 'neutral', 'entailment', 'contradiction', 'contradiction', 'contradiction', 'entailment', 'neutral', 'entailment', 'entailment', 'neutral', 'entailment', 'neutral', 'neutral', 'entailment', 'entailment', 'contradiction', 'neutral', 'contradiction', 'neutral', 'neutral', 'entailment', 'entailment', 'entailment', 'neutral', 'entailment', 'entailment', 'entailment', 'neutral', 'neutral', 'neutral', 'neutral', 'neutral', 'neutral', 'contradiction', 'contradiction', 'neutral', 'neutral', 'entailment', 'entailment', 'neutral', 'neutral', 'contradiction', 'neutral', 'neutral', 'entailment', 'neutral', 'neutral', 'entailment', 'entailment', 'contradiction', 'neutral', 'entailment', 'entailment', 'neutral', 'contradiction', 'neutral', 'neutral', 'neutral', 'entailment', 'entailment', 'entailment', 'neutral', 'entailment', 'contradiction', 'entailment', 'neutral', 'neutral', 'entailment', 'neutral', 'contradiction', 'neutral', 'neutral', 'neutral', 'entailment', 'neutral', 'entailment', 'entailment', 'entailment', 'neutral', 'entailment', 'neutral', 'entailment', 'neutral', 'contradiction', 'contradiction', 'neutral', 'neutral', 'neutral', 'entailment', 'entailment', 'entailment', 'neutral', 'contradiction', 'neutral', 'neutral', 'entailment', 'neutral', 'contradiction', 'neutral', 'entailment', 'neutral', 'neutral', 'entailment', 'neutral', 'contradiction', 'entailment', 'neutral', 'entailment', 'contradiction', 'neutral', 'neutral', 'entailment', 'entailment', 'neutral', 'entailment', 'neutral', 'entailment', 'neutral', 'entailment', 'entailment', 'contradiction', 'entailment', 'neutral', 'contradiction', 'entailment', 'neutral', 'entailment', 'neutral', 'neutral', 'contradiction', 'neutral', 'neutral', 'neutral', 'entailment', 'contradiction', 'entailment', 'contradiction', 'entailment', 'entailment', 'neutral', 'entailment', 'neutral', 'contradiction', 'contradiction', 'entailment', 'neutral', 'entailment', 'entailment', 'entailment', 'contradiction', 'entailment', 'contradiction', 'entailment', 'neutral', 'contradiction', 'neutral', 'entailment', 'contradiction', 'entailment', 'entailment', 'neutral', 'neutral', 'contradiction', 'entailment', 'neutral', 'neutral', 'contradiction', 'entailment', 'contradiction', 'contradiction', 'neutral', 'contradiction', 'entailment', 'entailment', 'neutral', 'neutral', 'entailment', 'neutral', 'neutral', 'entailment', 'entailment', 'contradiction', 'entailment', 'neutral', 'neutral', 'contradiction', 'entailment', 'contradiction', 'entailment', 'entailment', 'contradiction', 'entailment', 'contradiction', 'neutral', 'entailment', 'neutral', 'neutral', 'contradiction', 'contradiction', 'entailment', 'contradiction', 'neutral', 'neutral', 'entailment', 'neutral', 'neutral', 'entailment', 'neutral', 'neutral', 'entailment', 'neutral', 'entailment', 'entailment', 'contradiction', 'entailment', 'contradiction', 'neutral', 'contradiction', 'neutral', 'contradiction', 'neutral', 'neutral', 'entailment', 'neutral', 'neutral', 'neutral', 'entailment', 'entailment', 'entailment', 'contradiction', 'contradiction', 'contradiction', 'contradiction', 'entailment', 'neutral', 'neutral', 'contradiction', 'contradiction', 'entailment', 'neutral', 'neutral', 'contradiction', 'entailment', 'entailment', 'contradiction', 'neutral', 'entailment', 'neutral', 'neutral', 'contradiction', 'neutral', 'contradiction', 'entailment', 'entailment', 'contradiction', 'entailment', 'contradiction', 'contradiction', 'neutral', 'contradiction', 'entailment', 'contradiction', 'contradiction', 'neutral', 'entailment', 'contradiction', 'contradiction', 'entailment', 'contradiction', 'entailment', 'contradiction', 'entailment', 'entailment', 'contradiction', 'entailment', 'contradiction', 'entailment', 'entailment', 'entailment', 'entailment', 'entailment', 'contradiction', 'entailment', 'neutral', 'contradiction', 'neutral', 'entailment', 'entailment', 'neutral', 'neutral', 'entailment', 'entailment', 'entailment', 'entailment', 'neutral', 'contradiction', 'entailment', 'entailment', 'neutral', 'neutral', 'neutral', 'entailment', 'contradiction', 'neutral', 'neutral', 'entailment', 'contradiction', 'entailment', 'entailment', 'contradiction', 'entailment', 'contradiction', 'neutral', 'entailment', 'neutral', 'entailment', 'contradiction', 'entailment', 'entailment', 'contradiction', 'contradiction', 'contradiction', 'neutral', 'neutral', 'entailment', 'contradiction', 'contradiction', 'entailment', 'contradiction', 'entailment', 'entailment', 'entailment', 'neutral', 'entailment', 'contradiction', 'entailment', 'neutral', 'contradiction', 'contradiction', 'neutral', 'contradiction', 'contradiction', 'neutral', 'contradiction', 'neutral', 'neutral', 'contradiction', 'contradiction', 'neutral', 'neutral', 'entailment', 'entailment', 'contradiction', 'neutral', 'contradiction', 'contradiction', 'neutral', 'entailment', 'contradiction', 'entailment', 'contradiction', 'neutral', 'contradiction', 'contradiction', 'entailment', 'contradiction', 'entailment', 'neutral', 'neutral', 'entailment', 'contradiction', 'entailment', 'neutral', 'entailment', 'contradiction', 'entailment', 'entailment', 'neutral', 'entailment', 'neutral', 'entailment', 'contradiction', 'entailment', 'contradiction', 'entailment', 'entailment', 'contradiction', 'neutral', 'contradiction', 'neutral', 'neutral', 'neutral', 'contradiction', 'contradiction', 'contradiction', 'neutral', 'entailment', 'neutral', 'neutral', 'entailment', 'entailment', 'contradiction', 'entailment', 'entailment', 'neutral', 'entailment', 'entailment', 'contradiction', 'contradiction', 'neutral', 'entailment', 'contradiction', 'entailment', 'entailment', 'neutral', 'entailment', 'entailment', 'contradiction', 'neutral', 'contradiction', 'entailment', 'contradiction', 'entailment', 'neutral', 'entailment', 'entailment', 'contradiction', 'neutral', 'contradiction', 'entailment', 'neutral', 'entailment', 'neutral', 'entailment', 'contradiction', 'neutral', 'neutral', 'neutral', 'neutral', 'neutral', 'neutral', 'entailment', 'contradiction', 'neutral', 'neutral', 'neutral', 'contradiction', 'neutral', 'neutral', 'contradiction', 'neutral', 'entailment', 'neutral', 'entailment', 'entailment', 'neutral', 'entailment', 'neutral', 'contradiction', 'entailment', 'contradiction', 'entailment', 'contradiction', 'neutral', 'entailment', 'contradiction', 'contradiction', 'entailment', 'neutral', 'contradiction', 'entailment', 'contradiction', 'entailment', 'entailment', 'entailment', 'neutral', 'neutral', 'entailment', 'contradiction', 'entailment', 'entailment', 'contradiction', 'contradiction', 'contradiction', 'contradiction', 'entailment', 'contradiction', 'contradiction', 'neutral', 'entailment', 'contradiction', 'neutral', 'entailment', 'entailment', 'neutral', 'entailment', 'entailment', 'neutral', 'entailment', 'contradiction', 'contradiction', 'neutral', 'contradiction', 'contradiction', 'entailment', 'contradiction', 'neutral', 'neutral', 'entailment', 'neutral', 'neutral', 'contradiction', 'entailment', 'contradiction', 'neutral', 'entailment', 'neutral', 'entailment', 'entailment', 'neutral', 'entailment', 'entailment', 'contradiction', 'entailment', 'neutral', 'contradiction', 'entailment', 'entailment', 'entailment', 'neutral', 'entailment', 'neutral', 'contradiction', 'contradiction', 'entailment', 'entailment', 'contradiction', 'neutral', 'neutral', 'neutral', 'entailment', 'entailment', 'entailment', 'neutral', 'neutral', 'entailment', 'neutral', 'entailment', 'neutral', 'contradiction', 'entailment', 'neutral', 'entailment', 'entailment', 'neutral', 'contradiction', 'entailment', 'entailment', 'entailment', 'neutral', 'neutral', 'entailment', 'entailment', 'contradiction', 'neutral', 'entailment', 'entailment', 'neutral', 'entailment', 'neutral', 'entailment', 'entailment', 'contradiction', 'entailment', 'contradiction', 'contradiction', 'neutral', 'entailment', 'contradiction', 'entailment', 'entailment', 'contradiction', 'entailment', 'neutral', 'entailment', 'contradiction', 'entailment', 'contradiction', 'neutral', 'neutral', 'neutral', 'entailment', 'contradiction', 'entailment', 'contradiction', 'contradiction', 'contradiction', 'entailment', 'entailment', 'contradiction', 'neutral', 'neutral', 'entailment', 'contradiction', 'neutral', 'neutral', 'neutral', 'neutral', 'entailment', 'entailment', 'entailment', 'neutral', 'neutral', 'neutral', 'entailment', 'neutral', 'neutral', 'contradiction', 'neutral', 'entailment', 'contradiction', 'contradiction', 'contradiction', 'contradiction', 'contradiction', 'entailment', 'neutral', 'entailment', 'neutral', 'neutral', 'entailment', 'neutral', 'neutral', 'neutral', 'contradiction', 'entailment', 'contradiction', 'contradiction', 'contradiction', 'contradiction', 'entailment', 'contradiction', 'neutral', 'contradiction', 'contradiction', 'contradiction', 'contradiction', 'neutral', 'entailment', 'entailment', 'neutral', 'neutral', 'neutral', 'contradiction', 'contradiction', 'entailment', 'entailment', 'neutral', 'contradiction', 'neutral', 'entailment', 'contradiction', 'entailment', 'neutral', 'contradiction', 'contradiction', 'entailment', 'neutral', 'contradiction', 'neutral', 'neutral', 'neutral', 'neutral', 'contradiction', 'neutral', 'neutral', 'neutral', 'contradiction', 'entailment', 'contradiction', 'neutral', 'neutral', 'entailment', 'neutral', 'neutral', 'neutral', 'neutral', 'neutral', 'contradiction', 'contradiction', 'neutral', 'neutral', 'neutral', 'entailment', 'neutral', 'contradiction', 'entailment', 'neutral', 'contradiction', 'entailment', 'entailment', 'entailment', 'neutral', 'neutral', 'contradiction', 'entailment', 'entailment', 'contradiction', 'neutral', 'entailment', 'neutral', 'contradiction', 'neutral', 'entailment', 'contradiction', 'contradiction', 'contradiction', 'neutral', 'neutral', 'entailment', 'entailment', 'neutral', 'contradiction', 'contradiction', 'entailment', 'neutral', 'entailment', 'neutral', 'contradiction', 'neutral', 'neutral', 'entailment', 'neutral', 'entailment', 'neutral', 'contradiction', 'neutral', 'neutral', 'neutral', 'neutral', 'neutral', 'contradiction', 'neutral', 'entailment', 'neutral', 'contradiction', 'neutral', 'contradiction', 'entailment', 'entailment', 'entailment', 'entailment', 'neutral', 'neutral', 'neutral', 'contradiction', 'neutral', 'contradiction', 'entailment', 'entailment', 'contradiction', 'entailment', 'entailment', 'entailment', 'entailment', 'contradiction', 'contradiction', 'neutral', 'contradiction', 'neutral', 'contradiction', 'entailment', 'contradiction', 'entailment', 'neutral', 'contradiction', 'contradiction', 'neutral', 'entailment', 'neutral', 'neutral', 'neutral', 'neutral', 'contradiction', 'neutral', 'entailment', 'neutral', 'entailment', 'contradiction', 'entailment', 'neutral', 'neutral', 'entailment', 'neutral', 'entailment', 'entailment', 'neutral', 'entailment', 'entailment', 'entailment', 'entailment', 'contradiction', 'contradiction', 'contradiction', 'contradiction', 'entailment', 'entailment', 'entailment', 'contradiction', 'contradiction', 'neutral', 'entailment', 'entailment', 'entailment', 'neutral', 'neutral', 'contradiction', 'neutral', 'neutral', 'neutral', 'entailment', 'entailment', 'contradiction', 'neutral', 'neutral', 'neutral', 'entailment', 'neutral', 'neutral', 'entailment', 'neutral', 'entailment', 'entailment', 'contradiction', 'entailment', 'neutral', 'entailment', 'entailment', 'entailment', 'entailment', 'entailment', 'entailment', 'neutral', 'entailment', 'entailment', 'entailment', 'contradiction', 'entailment', 'entailment', 'neutral', 'neutral', 'neutral', 'entailment', 'entailment', 'entailment', 'entailment', 'neutral', 'entailment', 'neutral', 'entailment', 'entailment', 'entailment', 'entailment', 'neutral', 'neutral', 'entailment', 'entailment', 'entailment', 'entailment', 'neutral', 'entailment', 'entailment', 'entailment', 'entailment', 'entailment', 'neutral', 'entailment', 'entailment', 'neutral', 'entailment', 'contradiction', 'neutral', 'neutral', 'entailment', 'contradiction', 'neutral', 'entailment', 'entailment', 'contradiction', 'neutral', 'contradiction', 'neutral', 'entailment', 'contradiction', 'neutral', 'entailment', 'neutral', 'contradiction', 'contradiction', 'contradiction', 'contradiction', 'contradiction', 'neutral', 'contradiction', 'contradiction', 'contradiction', 'contradiction', 'contradiction', 'contradiction', 'contradiction', 'contradiction', 'contradiction', 'contradiction', 'contradiction', 'contradiction', 'contradiction', 'contradiction', 'contradiction', 'contradiction', 'contradiction', 'contradiction', 'contradiction', 'contradiction', 'contradiction', 'entailment', 'contradiction', 'contradiction', 'contradiction', 'contradiction', 'entailment', 'entailment', 'contradiction', 'contradiction', 'contradiction', 'neutral', 'contradiction', 'entailment', 'contradiction', 'neutral', 'entailment', 'contradiction', 'contradiction', 'entailment', 'neutral', 'entailment', 'contradiction', 'entailment', 'contradiction', 'entailment', 'contradiction', 'neutral', 'entailment', 'entailment', 'neutral', 'entailment', 'neutral', 'contradiction', 'contradiction', 'entailment', 'entailment', 'contradiction', 'neutral', 'neutral', 'neutral', 'contradiction', 'neutral', 'entailment', 'contradiction', 'contradiction', 'contradiction', 'entailment', 'contradiction', 'contradiction', 'entailment', 'contradiction', 'neutral', 'entailment', 'neutral', 'neutral', 'neutral', 'neutral', 'entailment', 'neutral', 'neutral', 'neutral', 'entailment', 'neutral', 'neutral', 'contradiction', 'neutral', 'neutral', 'neutral', 'neutral', 'entailment', 'entailment', 'entailment', 'entailment', 'entailment', 'neutral', 'neutral', 'entailment', 'entailment', 'entailment', 'entailment', 'entailment', 'entailment', 'neutral', 'entailment', 'neutral', 'entailment', 'contradiction', 'contradiction', 'contradiction', 'contradiction', 'contradiction', 'contradiction', 'contradiction', 'entailment', 'neutral', 'neutral', 'contradiction', 'contradiction', 'contradiction', 'contradiction', 'contradiction', 'entailment', 'contradiction', 'contradiction', 'entailment', 'neutral', 'contradiction', 'contradiction', 'neutral', 'neutral', 'contradiction', 'entailment', 'contradiction', 'contradiction', 'entailment', 'neutral', 'entailment', 'entailment', 'contradiction', 'entailment', 'entailment', 'entailment', 'entailment', 'entailment', 'neutral', 'contradiction', 'neutral', 'neutral', 'entailment', 'neutral', 'neutral', 'entailment', 'neutral', 'neutral', 'neutral', 'neutral', 'neutral', 'neutral', 'neutral', 'contradiction', 'contradiction', 'neutral', 'contradiction', 'neutral', 'entailment', 'entailment', 'entailment', 'contradiction', 'neutral', 'neutral', 'entailment', 'contradiction', 'neutral', 'contradiction', 'neutral', 'neutral', 'contradiction', 'neutral', 'neutral', 'contradiction', 'entailment', 'neutral', 'neutral', 'neutral', 'neutral', 'contradiction', 'neutral', 'contradiction', 'contradiction', 'contradiction', 'contradiction', 'entailment', 'entailment', 'neutral', 'neutral', 'neutral', 'neutral', 'neutral', 'neutral', 'contradiction', 'entailment', 'neutral', 'neutral', 'contradiction', 'entailment', 'entailment', 'neutral', 'neutral', 'contradiction', 'neutral', 'entailment', 'contradiction', 'neutral', 'neutral', 'entailment', 'neutral', 'entailment', 'neutral', 'neutral', 'neutral', 'neutral', 'neutral', 'contradiction', 'neutral', 'entailment', 'entailment', 'neutral', 'contradiction', 'entailment', 'contradiction', 'neutral', 'entailment', 'entailment', 'entailment', 'entailment', 'neutral', 'entailment', 'contradiction', 'neutral', 'contradiction', 'entailment', 'contradiction', 'contradiction', 'contradiction', 'entailment', 'entailment', 'entailment', 'neutral', 'neutral', 'contradiction', 'contradiction', 'contradiction', 'neutral', 'neutral', 'entailment', 'neutral', 'entailment', 'neutral', 'neutral', 'entailment', 'contradiction', 'contradiction', 'entailment', 'contradiction', 'neutral', 'neutral', 'neutral', 'contradiction', 'contradiction', 'entailment', 'entailment', 'contradiction', 'neutral', 'entailment', 'entailment', 'entailment', 'contradiction', 'neutral', 'entailment', 'entailment', 'neutral', 'neutral', 'contradiction', 'neutral', 'contradiction', 'neutral', 'neutral', 'contradiction', 'entailment', 'contradiction', 'entailment', 'neutral', 'contradiction', 'neutral', 'contradiction', 'neutral', 'contradiction', 'entailment', 'entailment', 'neutral', 'contradiction', 'entailment', 'contradiction', 'entailment', 'neutral', 'neutral', 'entailment', 'neutral', 'contradiction', 'entailment', 'entailment', 'contradiction', 'neutral', 'entailment', 'neutral', 'neutral', 'contradiction', 'neutral', 'neutral', 'contradiction', 'neutral', 'neutral', 'entailment', 'contradiction', 'contradiction', 'neutral', 'entailment', 'neutral', 'neutral', 'neutral', 'neutral', 'neutral', 'contradiction', 'contradiction', 'entailment', 'entailment', 'contradiction', 'neutral', 'neutral', 'neutral', 'contradiction', 'entailment', 'neutral', 'entailment', 'entailment', 'entailment', 'contradiction', 'entailment', 'entailment', 'neutral', 'contradiction', 'contradiction', 'contradiction', 'neutral', 'entailment', 'contradiction', 'entailment', 'neutral', 'entailment', 'contradiction', 'contradiction', 'entailment', 'entailment', 'neutral', 'neutral', 'contradiction', 'contradiction', 'neutral', 'contradiction', 'neutral', 'entailment', 'entailment', 'neutral', 'contradiction', 'neutral', 'entailment', 'neutral', 'neutral', 'neutral', 'contradiction', 'contradiction', 'neutral', 'neutral', 'neutral', 'entailment', 'entailment', 'neutral', 'neutral', 'contradiction', 'neutral', 'entailment', 'contradiction', 'neutral', 'neutral', 'contradiction', 'contradiction', 'entailment', 'contradiction', 'neutral', 'neutral', 'neutral', 'entailment', 'neutral', 'entailment', 'contradiction', 'contradiction', 'neutral', 'neutral', 'neutral', 'neutral', 'neutral', 'entailment', 'neutral', 'neutral', 'neutral', 'entailment', 'entailment', 'neutral', 'entailment', 'neutral', 'neutral', 'neutral', 'contradiction', 'entailment', 'entailment', 'contradiction', 'entailment', 'neutral', 'entailment', 'neutral', 'entailment', 'contradiction', 'contradiction', 'neutral', 'entailment', 'entailment', 'neutral', 'contradiction', 'entailment', 'neutral', 'entailment', 'entailment', 'contradiction', 'contradiction', 'entailment', 'contradiction', 'entailment', 'neutral', 'entailment', 'neutral', 'neutral', 'entailment', 'contradiction', 'contradiction', 'neutral', 'entailment', 'contradiction', 'neutral', 'neutral', 'entailment', 'contradiction', 'contradiction', 'entailment', 'entailment', 'entailment', 'contradiction', 'neutral', 'contradiction', 'entailment', 'entailment', 'contradiction', 'contradiction', 'neutral', 'contradiction', 'entailment', 'contradiction', 'contradiction', 'contradiction', 'contradiction', 'neutral', 'entailment', 'contradiction', 'entailment', 'neutral', 'entailment', 'contradiction', 'entailment', 'entailment', 'neutral', 'contradiction', 'entailment', 'contradiction', 'contradiction', 'contradiction', 'neutral', 'neutral', 'contradiction', 'entailment', 'entailment', 'entailment', 'neutral', 'neutral', 'contradiction', 'contradiction', 'entailment', 'contradiction', 'neutral', 'neutral', 'contradiction', 'entailment', 'contradiction', 'contradiction', 'contradiction', 'neutral', 'entailment', 'contradiction', 'entailment', 'contradiction', 'entailment', 'entailment', 'contradiction', 'entailment', 'entailment', 'contradiction', 'neutral', 'entailment', 'entailment', 'entailment', 'neutral', 'entailment', 'entailment', 'entailment', 'contradiction', 'entailment', 'neutral', 'neutral', 'entailment', 'entailment', 'neutral', 'entailment', 'contradiction', 'neutral', 'entailment', 'neutral', 'entailment', 'contradiction', 'entailment', 'neutral', 'entailment', 'entailment', 'entailment', 'contradiction', 'neutral', 'contradiction', 'contradiction', 'contradiction', 'entailment', 'contradiction', 'entailment', 'neutral', 'entailment', 'entailment', 'contradiction', 'entailment', 'entailment', 'entailment', 'neutral', 'neutral', 'neutral', 'contradiction', 'entailment', 'entailment', 'neutral', 'entailment', 'neutral', 'neutral', 'contradiction', 'neutral', 'entailment', 'entailment', 'neutral', 'neutral', 'contradiction', 'neutral', 'neutral', 'contradiction', 'entailment', 'entailment', 'neutral', 'entailment', 'entailment', 'entailment', 'contradiction', 'contradiction', 'contradiction', 'neutral', 'neutral', 'contradiction', 'entailment', 'neutral', 'entailment', 'contradiction', 'entailment', 'neutral', 'neutral', 'entailment', 'contradiction', 'entailment', 'contradiction', 'entailment', 'entailment', 'entailment', 'neutral', 'contradiction', 'entailment', 'entailment', 'entailment', 'entailment', 'neutral', 'entailment', 'entailment', 'neutral', 'neutral', 'contradiction', 'entailment', 'contradiction', 'neutral', 'entailment', 'entailment', 'entailment', 'neutral', 'entailment', 'entailment', 'contradiction', 'entailment', 'entailment', 'contradiction', 'contradiction', 'entailment', 'contradiction', 'neutral', 'entailment', 'neutral', 'contradiction', 'neutral', 'contradiction', 'neutral', 'neutral', 'entailment', 'neutral', 'contradiction', 'contradiction', 'neutral', 'entailment', 'contradiction', 'neutral', 'contradiction', 'entailment', 'neutral', 'neutral', 'neutral', 'contradiction', 'neutral', 'entailment', 'entailment', 'contradiction', 'contradiction', 'entailment', 'entailment', 'contradiction', 'entailment', 'entailment', 'entailment', 'contradiction', 'entailment', 'contradiction', 'contradiction', 'entailment', 'contradiction', 'entailment', 'entailment', 'neutral', 'entailment', 'entailment', 'contradiction', 'entailment', 'contradiction', 'entailment', 'entailment', 'entailment', 'contradiction', 'neutral', 'contradiction', 'entailment', 'neutral', 'contradiction', 'entailment', 'neutral', 'neutral', 'contradiction', 'neutral', 'entailment', 'neutral', 'entailment', 'entailment', 'entailment', 'entailment', 'neutral', 'entailment', 'contradiction', 'contradiction', 'entailment', 'contradiction', 'contradiction', 'entailment', 'entailment', 'neutral', 'entailment', 'contradiction', 'neutral', 'contradiction', 'neutral', 'neutral', 'neutral', 'neutral', 'neutral', 'neutral', 'neutral', 'neutral', 'neutral', 'contradiction', 'neutral', 'neutral', 'neutral', 'contradiction', 'neutral', 'contradiction', 'entailment', 'contradiction', 'entailment', 'entailment', 'entailment', 'contradiction', 'entailment', 'entailment', 'entailment', 'entailment', 'entailment', 'entailment', 'neutral', 'entailment', 'entailment', 'entailment', 'neutral', 'contradiction', 'entailment', 'entailment', 'neutral', 'neutral', 'entailment', 'contradiction', 'neutral', 'neutral', 'entailment', 'entailment', 'contradiction', 'contradiction', 'contradiction', 'contradiction', 'entailment', 'contradiction', 'entailment', 'entailment', 'entailment', 'contradiction', 'entailment', 'contradiction', 'neutral', 'entailment', 'entailment', 'neutral', 'neutral', 'contradiction', 'contradiction', 'contradiction', 'neutral', 'neutral', 'neutral', 'neutral', 'neutral', 'contradiction', 'neutral', 'contradiction', 'neutral', 'neutral', 'contradiction', 'neutral', 'neutral', 'neutral', 'neutral', 'contradiction', 'contradiction', 'entailment', 'entailment', 'entailment', 'entailment', 'entailment', 'neutral', 'contradiction', 'neutral', 'entailment', 'entailment', 'contradiction', 'contradiction', 'contradiction', 'neutral', 'entailment', 'neutral', 'contradiction', 'entailment', 'contradiction', 'contradiction', 'neutral', 'contradiction', 'entailment', 'neutral', 'entailment', 'neutral', 'contradiction', 'contradiction', 'entailment', 'contradiction', 'entailment', 'contradiction', 'entailment', 'contradiction', 'entailment', 'neutral', 'entailment', 'entailment', 'entailment', 'contradiction', 'contradiction', 'neutral', 'entailment', 'neutral', 'entailment', 'neutral', 'entailment', 'neutral', 'neutral', 'entailment', 'contradiction', 'neutral', 'entailment', 'neutral', 'entailment', 'contradiction', 'entailment', 'neutral', 'entailment', 'entailment', 'neutral', 'entailment', 'entailment', 'neutral', 'neutral', 'entailment', 'contradiction', 'neutral', 'contradiction', 'contradiction', 'neutral', 'entailment', 'entailment', 'entailment', 'neutral', 'contradiction', 'neutral', 'contradiction', 'entailment', 'neutral', 'neutral', 'contradiction', 'entailment', 'neutral', 'entailment', 'entailment', 'entailment', 'neutral', 'contradiction', 'contradiction', 'entailment', 'entailment', 'entailment', 'entailment', 'contradiction', 'entailment', 'neutral', 'neutral', 'entailment', 'entailment', 'entailment', 'neutral', 'entailment', 'entailment', 'entailment', 'entailment', 'neutral', 'contradiction', 'contradiction', 'contradiction', 'entailment', 'neutral', 'contradiction', 'entailment', 'neutral', 'entailment', 'neutral', 'entailment', 'neutral', 'neutral', 'contradiction', 'neutral', 'entailment', 'entailment', 'contradiction', 'contradiction', 'neutral', 'neutral', 'neutral', 'neutral', 'entailment', 'entailment', 'neutral', 'contradiction', 'contradiction', 'entailment', 'entailment', 'contradiction', 'entailment', 'entailment', 'entailment', 'entailment', 'entailment', 'neutral', 'contradiction', 'neutral', 'neutral', 'entailment', 'entailment', 'neutral', 'contradiction', 'entailment', 'contradiction', 'contradiction', 'entailment', 'contradiction', 'entailment', 'contradiction', 'contradiction', 'contradiction', 'entailment', 'neutral', 'entailment', 'neutral', 'neutral', 'contradiction', 'neutral', 'entailment', 'entailment', 'entailment', 'neutral', 'contradiction', 'contradiction', 'neutral', 'entailment', 'contradiction', 'neutral', 'contradiction', 'entailment', 'contradiction', 'neutral', 'neutral', 'neutral', 'contradiction', 'neutral', 'entailment', 'entailment', 'neutral', 'entailment', 'contradiction', 'contradiction', 'neutral', 'contradiction', 'neutral', 'neutral', 'entailment', 'entailment', 'entailment', 'contradiction', 'contradiction', 'entailment', 'contradiction', 'neutral', 'entailment', 'contradiction', 'contradiction', 'neutral', 'neutral', 'neutral', 'contradiction', 'entailment', 'entailment', 'neutral', 'entailment', 'neutral', 'entailment', 'neutral', 'neutral', 'neutral', 'contradiction', 'contradiction', 'entailment', 'neutral', 'contradiction', 'contradiction', 'entailment', 'entailment', 'neutral', 'contradiction', 'neutral', 'contradiction', 'neutral', 'contradiction', 'entailment', 'entailment', 'neutral', 'entailment', 'contradiction', 'contradiction', 'neutral', 'entailment', 'entailment', 'contradiction', 'neutral', 'neutral', 'neutral', 'neutral', 'neutral', 'contradiction', 'neutral', 'contradiction', 'contradiction', 'neutral', 'contradiction', 'entailment', 'contradiction', 'entailment', 'entailment', 'contradiction', 'entailment', 'neutral', 'entailment', 'neutral', 'entailment', 'neutral', 'contradiction', 'entailment', 'entailment', 'contradiction', 'neutral', 'entailment', 'contradiction', 'entailment', 'neutral', 'entailment', 'entailment', 'neutral', 'entailment', 'entailment', 'contradiction', 'neutral', 'neutral', 'contradiction', 'entailment', 'entailment', 'contradiction', 'contradiction', 'contradiction', 'entailment', 'neutral', 'entailment', 'neutral', 'contradiction', 'neutral', 'contradiction', 'neutral', 'contradiction', 'entailment', 'entailment', 'entailment', 'entailment', 'entailment', 'neutral', 'contradiction', 'entailment', 'contradiction', 'neutral', 'contradiction', 'contradiction', 'entailment', 'neutral', 'neutral', 'contradiction', 'entailment', 'entailment', 'entailment', 'entailment', 'neutral', 'contradiction', 'contradiction', 'contradiction', 'contradiction', 'entailment', 'entailment', 'neutral', 'neutral', 'entailment', 'neutral', 'contradiction', 'contradiction', 'neutral', 'contradiction', 'entailment', 'neutral', 'entailment', 'entailment', 'entailment', 'contradiction', 'entailment', 'neutral', 'contradiction', 'neutral', 'entailment', 'entailment', 'entailment', 'entailment', 'entailment', 'entailment', 'neutral', 'entailment', 'neutral', 'entailment', 'neutral', 'contradiction', 'entailment', 'entailment', 'entailment', 'neutral', 'contradiction', 'contradiction', 'neutral', 'entailment', 'contradiction', 'entailment', 'entailment', 'neutral', 'contradiction', 'contradiction', 'neutral', 'neutral', 'contradiction', 'neutral', 'neutral', 'contradiction', 'neutral', 'neutral', 'neutral', 'contradiction', 'entailment', 'entailment', 'neutral', 'contradiction', 'neutral', 'contradiction', 'entailment', 'entailment', 'contradiction', 'contradiction', 'contradiction', 'contradiction', 'contradiction', 'entailment', 'entailment', 'entailment', 'neutral', 'neutral', 'entailment', 'neutral', 'contradiction', 'neutral', 'contradiction', 'contradiction', 'contradiction', 'neutral', 'entailment', 'contradiction', 'neutral', 'neutral', 'neutral', 'contradiction', 'neutral', 'neutral', 'entailment', 'contradiction', 'neutral', 'neutral', 'contradiction', 'contradiction', 'contradiction', 'contradiction', 'contradiction', 'entailment', 'entailment', 'entailment', 'entailment', 'entailment', 'entailment', 'entailment', 'contradiction', 'entailment', 'neutral', 'neutral', 'entailment', 'entailment', 'entailment', 'neutral', 'neutral', 'neutral', 'entailment', 'entailment', 'neutral', 'contradiction', 'entailment', 'neutral', 'entailment', 'neutral', 'entailment', 'entailment', 'entailment', 'contradiction', 'neutral', 'contradiction', 'entailment', 'entailment', 'contradiction', 'contradiction', 'contradiction', 'entailment', 'entailment', 'entailment', 'entailment', 'contradiction', 'contradiction', 'neutral', 'entailment', 'contradiction', 'contradiction', 'entailment', 'neutral', 'neutral', 'contradiction', 'neutral', 'neutral', 'neutral', 'contradiction', 'contradiction', 'neutral', 'entailment', 'contradiction', 'contradiction', 'neutral', 'neutral', 'neutral', 'entailment', 'neutral', 'contradiction', 'entailment', 'contradiction', 'contradiction', 'contradiction', 'neutral', 'entailment', 'neutral', 'entailment', 'neutral', 'entailment', 'contradiction', 'contradiction', 'contradiction', 'contradiction', 'neutral', 'neutral', 'contradiction', 'contradiction', 'neutral', 'contradiction', 'neutral', 'entailment', 'entailment', 'entailment', 'contradiction', 'neutral', 'neutral', 'contradiction', 'neutral', 'neutral', 'neutral', 'entailment', 'entailment', 'contradiction', 'entailment', 'neutral', 'entailment', 'contradiction', 'entailment', 'entailment', 'entailment', 'entailment', 'contradiction', 'neutral', 'neutral', 'neutral', 'contradiction', 'contradiction', 'neutral', 'contradiction', 'entailment', 'contradiction', 'neutral', 'neutral', 'neutral', 'contradiction', 'entailment', 'entailment', 'entailment', 'contradiction', 'neutral', 'entailment', 'entailment', 'neutral', 'entailment', 'entailment', 'neutral', 'neutral', 'entailment', 'entailment', 'contradiction', 'entailment', 'entailment', 'entailment', 'neutral', 'entailment', 'contradiction', 'neutral', 'entailment', 'entailment', 'neutral', 'entailment', 'neutral', 'contradiction', 'contradiction', 'neutral', 'entailment', 'entailment', 'entailment', 'neutral', 'entailment', 'contradiction', 'entailment', 'entailment', 'entailment', 'entailment', 'entailment', 'entailment', 'entailment', 'neutral', 'neutral', 'neutral', 'entailment', 'contradiction', 'neutral', 'entailment', 'contradiction', 'entailment', 'contradiction', 'neutral', 'entailment', 'neutral', 'contradiction', 'entailment', 'entailment', 'contradiction', 'entailment', 'entailment', 'neutral', 'entailment', 'entailment', 'neutral', 'neutral', 'contradiction', 'neutral', 'neutral', 'neutral', 'entailment', 'neutral', 'neutral', 'entailment', 'entailment', 'neutral', 'neutral', 'entailment', 'neutral', 'entailment', 'entailment', 'entailment', 'entailment', 'contradiction', 'contradiction', 'contradiction', 'entailment', 'contradiction', 'neutral', 'neutral', 'entailment', 'neutral', 'entailment', 'contradiction', 'entailment', 'entailment', 'contradiction', 'contradiction', 'neutral', 'neutral', 'entailment', 'entailment', 'neutral', 'neutral', 'entailment', 'neutral', 'contradiction', 'contradiction', 'entailment', 'entailment', 'neutral', 'contradiction', 'entailment', 'neutral', 'neutral', 'contradiction', 'contradiction', 'entailment', 'entailment', 'contradiction', 'neutral', 'entailment', 'entailment', 'entailment', 'neutral', 'neutral', 'neutral', 'contradiction', 'neutral', 'neutral', 'entailment', 'neutral', 'contradiction', 'entailment', 'neutral', 'entailment', 'contradiction', 'entailment', 'entailment', 'neutral', 'entailment', 'contradiction', 'neutral', 'neutral', 'neutral', 'neutral', 'contradiction', 'entailment', 'contradiction', 'neutral', 'entailment', 'entailment', 'neutral', 'contradiction', 'entailment', 'neutral', 'entailment', 'neutral', 'neutral', 'contradiction', 'neutral', 'contradiction', 'contradiction', 'neutral', 'entailment', 'entailment', 'entailment', 'neutral', 'neutral', 'contradiction', 'contradiction', 'entailment', 'entailment', 'neutral', 'contradiction', 'entailment', 'contradiction', 'entailment', 'entailment', 'entailment', 'entailment', 'neutral', 'entailment', 'neutral', 'entailment', 'neutral', 'contradiction', 'neutral', 'neutral', 'neutral', 'entailment', 'contradiction', 'entailment', 'entailment', 'contradiction', 'contradiction', 'entailment', 'entailment', 'contradiction', 'contradiction', 'contradiction', 'contradiction', 'contradiction', 'contradiction', 'neutral', 'neutral', 'entailment', 'neutral', 'contradiction', 'entailment', 'entailment', 'entailment', 'contradiction', 'entailment', 'entailment', 'contradiction', 'entailment', 'neutral', 'contradiction', 'entailment', 'neutral', 'neutral', 'neutral', 'neutral', 'contradiction', 'entailment', 'entailment', 'contradiction', 'neutral', 'contradiction', 'entailment', 'entailment', 'neutral', 'contradiction', 'entailment', 'contradiction', 'contradiction', 'neutral', 'entailment', 'entailment', 'contradiction', 'entailment', 'neutral', 'neutral', 'contradiction', 'entailment', 'entailment', 'neutral', 'entailment', 'neutral', 'contradiction', 'neutral', 'neutral', 'contradiction', 'neutral', 'neutral', 'contradiction', 'neutral', 'entailment', 'entailment', 'neutral', 'neutral', 'contradiction', 'entailment', 'entailment', 'contradiction', 'neutral', 'contradiction', 'neutral', 'neutral', 'entailment', 'contradiction', 'entailment', 'entailment', 'entailment', 'neutral', 'entailment', 'neutral', 'neutral', 'neutral', 'neutral', 'contradiction', 'neutral', 'neutral', 'neutral', 'neutral', 'contradiction', 'contradiction', 'neutral', 'neutral', 'entailment', 'contradiction', 'contradiction', 'neutral', 'neutral', 'neutral', 'entailment', 'contradiction', 'entailment', 'neutral', 'contradiction', 'contradiction', 'neutral', 'contradiction', 'contradiction', 'contradiction', 'neutral', 'entailment', 'contradiction', 'contradiction', 'entailment', 'neutral', 'contradiction', 'entailment', 'contradiction', 'contradiction', 'entailment', 'contradiction', 'neutral', 'entailment', 'neutral', 'neutral', 'entailment', 'neutral', 'neutral', 'neutral', 'entailment', 'contradiction', 'neutral', 'contradiction', 'entailment', 'neutral', 'neutral', 'neutral', 'neutral', 'entailment', 'contradiction', 'entailment', 'entailment', 'entailment', 'entailment', 'entailment', 'contradiction', 'neutral', 'contradiction', 'entailment', 'contradiction', 'entailment', 'neutral', 'neutral', 'neutral', 'entailment', 'entailment', 'entailment', 'neutral', 'contradiction', 'neutral', 'entailment', 'neutral', 'entailment', 'contradiction', 'neutral', 'contradiction', 'neutral', 'neutral', 'contradiction', 'entailment', 'neutral', 'contradiction', 'neutral', 'neutral', 'neutral', 'neutral', 'entailment', 'entailment', 'contradiction', 'neutral', 'contradiction', 'contradiction', 'neutral', 'neutral', 'entailment', 'contradiction', 'contradiction', 'entailment', 'entailment', 'entailment', 'entailment', 'contradiction', 'neutral', 'contradiction', 'entailment', 'entailment', 'contradiction', 'contradiction', 'contradiction', 'contradiction', 'contradiction', 'neutral', 'entailment', 'neutral', 'entailment', 'contradiction', 'contradiction', 'contradiction', 'entailment', 'neutral', 'entailment', 'entailment', 'neutral', 'neutral', 'neutral', 'neutral', 'entailment', 'entailment', 'entailment', 'contradiction', 'neutral', 'neutral', 'neutral', 'entailment', 'entailment', 'neutral', 'neutral', 'entailment', 'contradiction', 'contradiction', 'contradiction', 'entailment', 'neutral', 'contradiction', 'entailment', 'contradiction', 'entailment', 'entailment', 'neutral', 'entailment', 'contradiction', 'neutral', 'entailment', 'neutral', 'neutral', 'neutral', 'neutral', 'neutral', 'contradiction', 'entailment', 'neutral', 'entailment', 'contradiction', 'contradiction', 'entailment', 'contradiction', 'contradiction', 'entailment', 'entailment', 'neutral', 'contradiction', 'entailment', 'neutral', 'entailment', 'entailment', 'contradiction', 'contradiction', 'entailment', 'entailment', 'contradiction', 'contradiction', 'entailment', 'neutral', 'contradiction', 'neutral', 'contradiction', 'entailment', 'neutral', 'neutral', 'neutral', 'contradiction', 'contradiction', 'neutral', 'contradiction', 'entailment', 'neutral', 'entailment', 'neutral', 'entailment', 'entailment', 'entailment', 'entailment', 'neutral', 'neutral', 'neutral', 'entailment', 'neutral', 'entailment', 'entailment', 'contradiction', 'contradiction', 'neutral', 'neutral', 'entailment', 'neutral', 'neutral', 'entailment', 'contradiction', 'neutral', 'contradiction', 'contradiction', 'contradiction', 'neutral', 'neutral', 'neutral', 'neutral', 'contradiction', 'neutral', 'neutral', 'contradiction', 'contradiction', 'contradiction', 'entailment', 'neutral', 'contradiction', 'entailment', 'entailment', 'neutral', 'contradiction', 'neutral', 'neutral', 'neutral', 'contradiction', 'entailment', 'contradiction', 'neutral', 'entailment', 'neutral', 'contradiction', 'contradiction', 'neutral', 'neutral', 'entailment', 'neutral', 'contradiction', 'neutral', 'contradiction', 'entailment', 'entailment', 'neutral', 'neutral', 'entailment', 'contradiction', 'neutral', 'contradiction', 'contradiction', 'neutral', 'contradiction', 'contradiction', 'contradiction', 'contradiction', 'neutral', 'contradiction', 'neutral', 'neutral', 'contradiction', 'neutral', 'neutral', 'neutral', 'neutral', 'entailment', 'entailment', 'contradiction', 'contradiction', 'entailment', 'entailment', 'contradiction', 'entailment', 'contradiction', 'neutral', 'entailment', 'entailment', 'contradiction', 'contradiction', 'entailment', 'contradiction', 'entailment', 'contradiction', 'contradiction', 'entailment', 'entailment', 'neutral', 'neutral', 'entailment', 'contradiction', 'entailment', 'entailment', 'contradiction', 'entailment', 'contradiction', 'entailment', 'neutral', 'contradiction', 'entailment', 'entailment', 'entailment', 'entailment', 'entailment', 'entailment', 'entailment', 'neutral', 'contradiction', 'entailment', 'neutral', 'entailment', 'entailment', 'neutral', 'neutral', 'contradiction', 'neutral', 'entailment', 'entailment', 'entailment', 'contradiction', 'entailment', 'contradiction', 'contradiction', 'neutral', 'entailment', 'neutral', 'contradiction', 'entailment', 'neutral', 'entailment', 'neutral', 'entailment', 'entailment', 'entailment', 'entailment', 'contradiction', 'neutral', 'neutral', 'entailment', 'contradiction', 'contradiction', 'entailment', 'entailment', 'entailment', 'contradiction', 'contradiction', 'contradiction', 'contradiction', 'entailment', 'entailment', 'entailment', 'entailment', 'neutral', 'neutral', 'neutral', 'entailment', 'contradiction', 'contradiction', 'neutral', 'entailment', 'neutral', 'contradiction', 'contradiction', 'entailment', 'entailment', 'contradiction', 'entailment', 'entailment', 'neutral', 'neutral', 'contradiction', 'entailment', 'neutral', 'contradiction', 'entailment', 'entailment', 'neutral', 'neutral', 'contradiction', 'entailment', 'entailment', 'contradiction', 'neutral', 'contradiction', 'entailment', 'neutral', 'entailment', 'neutral', 'neutral', 'contradiction', 'neutral', 'entailment', 'entailment', 'neutral', 'entailment', 'neutral', 'contradiction', 'neutral', 'contradiction', 'neutral', 'contradiction', 'entailment', 'neutral', 'contradiction', 'entailment', 'entailment', 'neutral', 'neutral', 'entailment', 'contradiction', 'neutral', 'entailment', 'contradiction', 'entailment', 'entailment', 'neutral', 'neutral', 'contradiction', 'entailment', 'entailment', 'neutral', 'entailment', 'neutral', 'contradiction', 'contradiction', 'contradiction', 'entailment', 'neutral', 'contradiction', 'neutral', 'entailment', 'neutral', 'neutral', 'neutral', 'neutral', 'neutral', 'entailment', 'entailment', 'entailment', 'entailment', 'contradiction', 'entailment', 'entailment', 'contradiction', 'entailment', 'entailment', 'contradiction', 'entailment', 'entailment', 'neutral', 'neutral', 'contradiction', 'neutral', 'neutral', 'contradiction', 'entailment', 'neutral', 'entailment', 'contradiction', 'contradiction', 'entailment', 'contradiction', 'entailment', 'contradiction', 'neutral', 'neutral', 'entailment', 'neutral', 'entailment', 'entailment', 'neutral', 'neutral', 'neutral', 'entailment', 'neutral', 'entailment', 'contradiction', 'neutral', 'contradiction', 'entailment', 'neutral', 'entailment', 'entailment', 'entailment', 'neutral', 'entailment', 'contradiction', 'neutral', 'neutral', 'neutral', 'entailment', 'entailment', 'neutral', 'entailment', 'entailment', 'entailment', 'entailment', 'entailment', 'entailment', 'entailment', 'neutral', 'neutral', 'neutral', 'neutral', 'neutral', 'contradiction', 'neutral', 'contradiction', 'entailment', 'entailment', 'neutral', 'contradiction', 'entailment', 'contradiction', 'contradiction', 'contradiction', 'contradiction', 'neutral', 'contradiction', 'contradiction', 'entailment', 'entailment', 'neutral', 'neutral', 'entailment', 'neutral', 'neutral', 'contradiction', 'entailment', 'entailment', 'entailment', 'neutral', 'neutral', 'entailment', 'neutral', 'contradiction', 'contradiction', 'entailment', 'neutral', 'entailment', 'neutral', 'contradiction', 'contradiction', 'neutral', 'contradiction', 'neutral', 'neutral', 'entailment', 'contradiction', 'contradiction', 'contradiction', 'neutral', 'neutral', 'neutral', 'neutral', 'entailment', 'entailment', 'entailment', 'neutral', 'neutral', 'entailment', 'neutral', 'entailment', 'entailment', 'entailment', 'neutral', 'neutral', 'entailment', 'entailment', 'entailment', 'contradiction', 'neutral', 'contradiction', 'contradiction', 'contradiction', 'entailment', 'neutral', 'contradiction', 'contradiction', 'contradiction', 'contradiction', 'contradiction', 'entailment', 'contradiction', 'entailment', 'entailment', 'neutral', 'entailment', 'entailment', 'contradiction', 'contradiction', 'neutral', 'contradiction', 'neutral', 'neutral', 'contradiction', 'contradiction', 'entailment', 'neutral', 'entailment', 'neutral', 'entailment', 'contradiction', 'entailment', 'entailment', 'contradiction', 'neutral', 'contradiction', 'entailment', 'entailment', 'contradiction', 'neutral', 'contradiction', 'entailment', 'neutral', 'entailment', 'contradiction', 'contradiction', 'contradiction', 'entailment', 'contradiction', 'entailment', 'contradiction', 'contradiction', 'entailment', 'neutral', 'neutral', 'contradiction', 'contradiction', 'neutral', 'neutral', 'neutral', 'entailment', 'neutral', 'entailment', 'neutral', 'entailment', 'neutral', 'entailment', 'entailment', 'contradiction', 'neutral', 'neutral', 'neutral', 'contradiction', 'contradiction', 'contradiction', 'contradiction', 'contradiction', 'contradiction', 'contradiction', 'contradiction', 'contradiction', 'contradiction', 'neutral', 'entailment', 'entailment', 'entailment', 'contradiction', 'entailment', 'entailment', 'contradiction', 'contradiction', 'entailment', 'entailment', 'entailment', 'contradiction', 'neutral', 'entailment', 'entailment', 'neutral', 'contradiction', 'entailment', 'neutral', 'entailment', 'contradiction', 'neutral', 'entailment', 'entailment', 'entailment', 'entailment', 'entailment', 'entailment', 'entailment', 'neutral', 'neutral', 'entailment', 'neutral', 'contradiction', 'entailment', 'entailment', 'neutral', 'contradiction', 'contradiction', 'entailment', 'entailment', 'contradiction', 'entailment', 'contradiction', 'entailment', 'contradiction', 'contradiction', 'entailment', 'neutral', 'contradiction', 'contradiction', 'neutral', 'neutral', 'entailment', 'neutral', 'neutral', 'neutral', 'entailment', 'contradiction', 'entailment', 'neutral', 'entailment', 'neutral', 'contradiction', 'neutral', 'entailment', 'entailment', 'entailment', 'neutral', 'neutral', 'neutral', 'entailment', 'neutral', 'entailment', 'neutral', 'entailment', 'contradiction', 'neutral', 'neutral', 'entailment', 'entailment', 'entailment', 'neutral', 'contradiction', 'entailment', 'contradiction', 'entailment', 'neutral', 'entailment', 'contradiction', 'entailment', 'neutral', 'entailment', 'contradiction', 'neutral', 'entailment', 'entailment', 'neutral', 'neutral', 'entailment', 'neutral', 'contradiction', 'entailment', 'entailment', 'entailment', 'contradiction', 'entailment', 'entailment', 'contradiction', 'neutral', 'neutral', 'neutral', 'neutral', 'entailment', 'contradiction', 'neutral', 'contradiction', 'entailment', 'entailment', 'entailment', 'neutral', 'entailment', 'neutral', 'contradiction', 'contradiction', 'contradiction', 'neutral', 'contradiction', 'entailment', 'entailment', 'entailment', 'entailment', 'entailment', 'neutral', 'neutral', 'contradiction', 'contradiction', 'neutral', 'contradiction', 'contradiction', 'entailment', 'entailment', 'entailment', 'neutral', 'contradiction', 'entailment', 'contradiction', 'entailment', 'neutral', 'entailment', 'contradiction', 'neutral', 'contradiction', 'entailment', 'entailment', 'contradiction', 'contradiction', 'contradiction', 'entailment', 'contradiction', 'entailment', 'contradiction', 'neutral', 'neutral', 'neutral', 'entailment', 'neutral', 'entailment', 'entailment', 'neutral', 'neutral', 'neutral', 'entailment', 'neutral', 'neutral', 'neutral', 'neutral', 'entailment', 'entailment', 'contradiction', 'contradiction', 'contradiction', 'entailment', 'entailment', 'neutral', 'contradiction', 'contradiction', 'contradiction', 'contradiction', 'contradiction', 'contradiction', 'neutral', 'entailment', 'entailment', 'neutral', 'entailment', 'contradiction', 'contradiction', 'neutral', 'contradiction', 'contradiction', 'contradiction', 'contradiction', 'neutral', 'entailment', 'entailment', 'entailment', 'contradiction', 'contradiction', 'contradiction', 'entailment', 'neutral', 'contradiction', 'neutral', 'neutral', 'contradiction', 'entailment', 'contradiction', 'entailment', 'entailment', 'entailment', 'neutral', 'neutral', 'neutral', 'entailment', 'contradiction', 'entailment', 'entailment', 'contradiction', 'neutral', 'entailment', 'entailment', 'entailment', 'contradiction', 'contradiction', 'entailment', 'entailment', 'neutral', 'entailment', 'neutral', 'entailment', 'contradiction', 'contradiction', 'entailment', 'entailment', 'entailment', 'contradiction', 'neutral', 'neutral', 'entailment', 'neutral', 'neutral', 'contradiction', 'contradiction', 'neutral', 'entailment', 'entailment', 'neutral', 'entailment', 'entailment', 'entailment', 'neutral', 'contradiction', 'contradiction', 'neutral', 'entailment', 'contradiction', 'neutral', 'entailment', 'contradiction', 'contradiction', 'contradiction', 'contradiction', 'entailment', 'contradiction', 'neutral', 'contradiction', 'neutral', 'entailment', 'neutral', 'contradiction', 'entailment', 'contradiction', 'contradiction', 'contradiction', 'contradiction', 'entailment', 'entailment', 'entailment', 'contradiction', 'neutral', 'neutral', 'contradiction', 'contradiction', 'entailment', 'contradiction', 'entailment', 'neutral', 'neutral', 'neutral', 'entailment', 'contradiction', 'contradiction', 'neutral', 'entailment', 'contradiction', 'contradiction', 'neutral', 'neutral', 'entailment', 'entailment', 'contradiction', 'entailment', 'neutral', 'entailment', 'neutral', 'contradiction', 'entailment', 'entailment', 'contradiction', 'contradiction', 'contradiction', 'contradiction', 'contradiction', 'neutral', 'entailment', 'contradiction', 'neutral', 'neutral', 'neutral', 'contradiction', 'neutral', 'entailment', 'contradiction', 'entailment', 'neutral', 'neutral', 'neutral', 'neutral', 'entailment', 'neutral', 'contradiction', 'neutral', 'neutral', 'entailment', 'entailment', 'neutral', 'contradiction', 'entailment', 'entailment', 'contradiction', 'contradiction', 'entailment', 'neutral', 'neutral', 'contradiction', 'entailment', 'contradiction', 'contradiction', 'contradiction', 'contradiction', 'contradiction', 'contradiction', 'neutral', 'contradiction', 'contradiction', 'neutral', 'neutral', 'contradiction', 'neutral', 'neutral', 'neutral', 'contradiction', 'contradiction', 'entailment', 'entailment', 'contradiction', 'neutral', 'entailment', 'contradiction', 'entailment', 'contradiction', 'neutral', 'neutral', 'neutral', 'neutral', 'entailment', 'entailment', 'neutral', 'contradiction', 'neutral', 'entailment', 'neutral', 'neutral', 'entailment', 'neutral', 'entailment', 'contradiction', 'neutral', 'entailment', 'entailment', 'neutral', 'entailment', 'entailment', 'neutral', 'neutral', 'neutral', 'entailment', 'contradiction', 'contradiction', 'entailment', 'entailment', 'entailment', 'neutral', 'contradiction', 'entailment', 'entailment', 'entailment', 'neutral', 'neutral', 'neutral', 'contradiction', 'neutral', 'contradiction', 'contradiction', 'neutral', 'entailment', 'neutral', 'entailment', 'contradiction', 'neutral', 'neutral', 'contradiction', 'entailment', 'entailment', 'entailment', 'contradiction', 'entailment', 'entailment', 'entailment', 'entailment', 'entailment', 'contradiction', 'contradiction', 'entailment', 'contradiction', 'neutral', 'entailment', 'entailment', 'contradiction', 'neutral', 'neutral', 'neutral', 'neutral', 'neutral', 'neutral', 'entailment', 'neutral', 'entailment', 'contradiction', 'contradiction', 'entailment', 'entailment', 'entailment', 'entailment', 'contradiction', 'neutral', 'neutral', 'neutral', 'contradiction', 'contradiction', 'entailment', 'entailment', 'entailment', 'entailment', 'entailment', 'entailment', 'contradiction', 'contradiction', 'neutral', 'neutral', 'neutral', 'neutral', 'neutral', 'contradiction', 'entailment', 'contradiction', 'neutral', 'contradiction', 'entailment', 'entailment', 'neutral', 'neutral', 'entailment', 'entailment', 'entailment', 'entailment', 'entailment', 'entailment', 'neutral', 'neutral', 'contradiction', 'contradiction', 'contradiction', 'entailment', 'entailment', 'entailment', 'entailment', 'entailment', 'entailment', 'contradiction', 'neutral', 'entailment', 'contradiction', 'entailment', 'entailment', 'neutral', 'entailment', 'neutral', 'contradiction', 'neutral', 'neutral', 'neutral', 'contradiction', 'neutral', 'entailment', 'entailment', 'entailment', 'contradiction', 'contradiction', 'contradiction', 'neutral', 'contradiction', 'entailment', 'entailment', 'entailment', 'entailment', 'entailment', 'contradiction', 'neutral', 'neutral', 'neutral', 'entailment', 'entailment', 'neutral', 'entailment', 'neutral', 'neutral', 'contradiction', 'entailment', 'neutral', 'neutral', 'neutral', 'neutral', 'neutral', 'neutral', 'entailment', 'neutral', 'entailment', 'neutral', 'neutral', 'neutral', 'entailment', 'entailment', 'entailment', 'contradiction', 'neutral', 'entailment', 'entailment', 'contradiction', 'neutral', 'neutral', 'neutral', 'entailment', 'entailment', 'entailment', 'entailment', 'entailment', 'neutral', 'neutral', 'neutral', 'entailment', 'entailment', 'entailment', 'neutral', 'entailment', 'contradiction', 'contradiction', 'entailment', 'contradiction', 'entailment', 'entailment', 'contradiction', 'contradiction', 'contradiction', 'contradiction', 'entailment', 'entailment', 'entailment', 'contradiction', 'neutral', 'neutral', 'contradiction', 'contradiction', 'contradiction', 'entailment', 'entailment', 'entailment', 'entailment', 'contradiction', 'entailment', 'contradiction', 'contradiction', 'entailment', 'neutral', 'entailment', 'entailment', 'neutral', 'neutral', 'contradiction', 'neutral', 'entailment', 'entailment', 'contradiction', 'neutral', 'entailment', 'entailment', 'neutral', 'contradiction', 'contradiction', 'entailment', 'contradiction', 'entailment', 'neutral', 'neutral', 'neutral', 'entailment', 'entailment', 'contradiction', 'neutral', 'contradiction', 'entailment', 'contradiction', 'neutral', 'neutral', 'entailment', 'neutral', 'neutral', 'entailment', 'contradiction', 'contradiction', 'entailment', 'neutral', 'neutral', 'entailment', 'neutral', 'neutral', 'neutral', 'contradiction', 'entailment', 'contradiction', 'neutral', 'neutral', 'contradiction', 'entailment', 'entailment', 'entailment', 'neutral', 'entailment', 'entailment', 'contradiction', 'contradiction', 'entailment', 'entailment', 'entailment', 'contradiction', 'neutral', 'neutral', 'entailment', 'entailment', 'contradiction', 'entailment', 'neutral', 'contradiction', 'neutral', 'contradiction', 'neutral', 'neutral', 'neutral', 'neutral', 'entailment', 'neutral', 'neutral', 'entailment', 'contradiction', 'contradiction', 'neutral', 'neutral', 'neutral', 'entailment', 'entailment', 'entailment', 'entailment', 'neutral', 'entailment', 'contradiction', 'neutral', 'neutral', 'entailment', 'entailment', 'neutral', 'entailment', 'contradiction', 'neutral', 'entailment', 'entailment', 'entailment', 'contradiction', 'entailment', 'entailment', 'contradiction', 'contradiction', 'contradiction', 'neutral', 'neutral', 'contradiction', 'entailment', 'neutral', 'entailment', 'entailment', 'contradiction', 'entailment', 'entailment', 'neutral', 'contradiction', 'entailment', 'contradiction', 'contradiction', 'neutral', 'entailment', 'neutral', 'entailment', 'neutral', 'neutral', 'contradiction', 'entailment', 'neutral', 'entailment', 'neutral', 'entailment', 'neutral', 'entailment', 'neutral', 'entailment', 'neutral', 'contradiction', 'entailment', 'entailment', 'entailment', 'neutral', 'contradiction', 'contradiction', 'entailment', 'neutral', 'neutral', 'contradiction', 'contradiction', 'entailment', 'contradiction', 'entailment', 'neutral', 'entailment', 'entailment', 'entailment', 'entailment', 'neutral', 'contradiction', 'entailment', 'contradiction', 'neutral', 'neutral', 'entailment', 'contradiction', 'entailment', 'entailment', 'contradiction', 'neutral', 'neutral', 'neutral', 'neutral', 'neutral', 'contradiction', 'entailment', 'entailment', 'neutral', 'neutral', 'entailment', 'entailment', 'contradiction', 'contradiction', 'neutral', 'neutral', 'entailment', 'entailment', 'contradiction', 'entailment', 'entailment', 'contradiction', 'entailment', 'neutral', 'neutral', 'contradiction', 'entailment', 'entailment', 'entailment', 'contradiction', 'entailment', 'entailment', 'entailment', 'entailment', 'entailment', 'entailment', 'entailment', 'entailment', 'entailment', 'entailment', 'entailment', 'entailment', 'entailment', 'entailment', 'contradiction', 'entailment', 'entailment', 'entailment', 'contradiction', 'entailment', 'entailment', 'neutral', 'neutral', 'entailment', 'contradiction', 'entailment', 'contradiction', 'entailment', 'contradiction', 'entailment', 'contradiction', 'entailment', 'entailment', 'neutral', 'contradiction', 'neutral', 'neutral', 'entailment', 'entailment', 'neutral', 'contradiction', 'entailment', 'entailment', 'entailment', 'neutral', 'contradiction', 'neutral', 'entailment', 'entailment', 'neutral', 'contradiction', 'contradiction', 'neutral', 'neutral', 'neutral', 'contradiction', 'entailment', 'entailment', 'entailment', 'entailment', 'neutral', 'entailment', 'neutral', 'neutral', 'contradiction', 'neutral', 'entailment', 'neutral', 'entailment', 'entailment', 'neutral', 'contradiction', 'entailment', 'contradiction', 'neutral', 'entailment', 'entailment', 'neutral', 'neutral', 'entailment', 'contradiction', 'contradiction', 'neutral', 'neutral', 'contradiction', 'entailment', 'entailment', 'contradiction', 'contradiction', 'neutral', 'entailment', 'contradiction', 'entailment', 'neutral', 'neutral', 'contradiction', 'entailment', 'entailment', 'entailment', 'entailment', 'contradiction', 'contradiction', 'neutral', 'entailment', 'neutral', 'entailment', 'entailment', 'neutral', 'entailment', 'entailment', 'entailment', 'contradiction', 'contradiction', 'entailment', 'contradiction', 'contradiction', 'contradiction', 'neutral', 'contradiction', 'contradiction', 'entailment', 'entailment', 'neutral', 'neutral', 'neutral', 'contradiction', 'neutral', 'entailment', 'contradiction', 'contradiction', 'entailment', 'contradiction', 'contradiction', 'neutral', 'neutral', 'neutral', 'contradiction', 'entailment', 'entailment', 'contradiction', 'contradiction', 'entailment', 'contradiction', 'neutral', 'entailment', 'entailment', 'entailment', 'entailment', 'neutral', 'contradiction', 'contradiction', 'contradiction', 'neutral', 'contradiction', 'neutral', 'contradiction', 'neutral', 'entailment', 'neutral', 'neutral', 'contradiction', 'entailment', 'entailment', 'neutral', 'entailment', 'contradiction', 'entailment', 'contradiction', 'contradiction', 'contradiction', 'contradiction', 'contradiction', 'neutral', 'contradiction', 'contradiction', 'neutral', 'entailment', 'neutral', 'neutral', 'entailment', 'neutral', 'neutral', 'neutral', 'neutral', 'neutral', 'entailment', 'entailment', 'neutral', 'neutral', 'contradiction', 'entailment', 'entailment', 'contradiction', 'entailment', 'contradiction', 'contradiction', 'contradiction', 'neutral', 'contradiction', 'entailment', 'neutral', 'entailment', 'neutral', 'entailment', 'neutral', 'entailment', 'neutral', 'neutral', 'entailment', 'entailment', 'neutral', 'neutral', 'entailment', 'entailment', 'neutral', 'neutral', 'contradiction', 'contradiction', 'contradiction', 'neutral', 'entailment', 'contradiction', 'entailment', 'contradiction', 'contradiction', 'entailment', 'neutral', 'neutral', 'neutral', 'entailment', 'neutral', 'contradiction', 'contradiction', 'contradiction', 'contradiction', 'neutral', 'neutral', 'neutral', 'neutral', 'neutral', 'entailment', 'neutral', 'entailment', 'entailment', 'neutral', 'contradiction', 'contradiction', 'neutral', 'neutral', 'neutral', 'entailment', 'contradiction', 'entailment', 'contradiction', 'entailment', 'contradiction', 'entailment', 'neutral', 'entailment', 'neutral', 'entailment', 'entailment', 'entailment', 'entailment', 'entailment', 'neutral', 'neutral', 'entailment', 'contradiction', 'contradiction', 'entailment', 'entailment', 'entailment', 'entailment', 'neutral', 'contradiction', 'entailment', 'entailment', 'neutral', 'neutral', 'contradiction', 'neutral', 'contradiction', 'neutral', 'entailment', 'entailment', 'contradiction', 'entailment', 'contradiction', 'neutral', 'contradiction', 'entailment', 'entailment', 'contradiction', 'entailment', 'neutral', 'neutral', 'contradiction', 'entailment', 'entailment', 'neutral', 'neutral', 'entailment', 'entailment', 'entailment', 'contradiction', 'entailment', 'contradiction', 'neutral', 'entailment', 'contradiction', 'neutral', 'contradiction', 'entailment', 'contradiction', 'contradiction', 'neutral', 'entailment', 'contradiction', 'contradiction', 'entailment', 'neutral', 'neutral', 'entailment', 'entailment', 'neutral', 'contradiction', 'entailment', 'neutral', 'neutral', 'neutral', 'neutral', 'neutral', 'neutral', 'contradiction', 'entailment', 'entailment', 'entailment', 'entailment', 'contradiction', 'contradiction', 'neutral', 'contradiction', 'contradiction', 'entailment', 'neutral', 'contradiction', 'neutral', 'entailment', 'neutral', 'entailment', 'entailment', 'entailment', 'entailment', 'neutral', 'contradiction', 'entailment', 'neutral', 'entailment', 'contradiction', 'entailment', 'contradiction', 'neutral', 'neutral', 'contradiction', 'neutral', 'entailment', 'contradiction', 'neutral', 'contradiction', 'contradiction', 'entailment', 'contradiction', 'neutral', 'neutral', 'contradiction', 'contradiction', 'entailment', 'entailment', 'entailment', 'neutral', 'contradiction', 'entailment', 'contradiction', 'neutral', 'neutral', 'neutral', 'entailment', 'contradiction', 'contradiction', 'contradiction', 'neutral', 'neutral', 'neutral', 'contradiction', 'entailment', 'contradiction', 'neutral', 'neutral', 'entailment', 'entailment', 'contradiction', 'entailment', 'entailment', 'entailment', 'entailment', 'entailment', 'contradiction', 'entailment', 'neutral', 'neutral', 'entailment', 'neutral', 'contradiction', 'neutral', 'contradiction', 'neutral', 'entailment', 'contradiction', 'contradiction', 'contradiction', 'contradiction', 'neutral', 'neutral', 'entailment', 'entailment', 'neutral', 'neutral', 'contradiction', 'neutral', 'neutral', 'entailment', 'contradiction', 'neutral', 'entailment', 'neutral', 'neutral', 'contradiction', 'entailment', 'entailment', 'neutral', 'entailment', 'contradiction', 'entailment', 'entailment', 'entailment', 'entailment', 'entailment', 'neutral', 'contradiction', 'contradiction', 'entailment', 'entailment', 'neutral', 'neutral', 'entailment', 'entailment', 'neutral', 'entailment', 'entailment', 'contradiction', 'neutral', 'neutral', 'entailment', 'neutral', 'contradiction', 'contradiction', 'contradiction', 'neutral', 'neutral', 'neutral', 'contradiction', 'entailment', 'contradiction', 'neutral', 'neutral', 'entailment', 'entailment', 'contradiction', 'neutral', 'entailment', 'contradiction', 'entailment', 'entailment', 'neutral', 'neutral', 'neutral', 'neutral', 'contradiction', 'contradiction', 'contradiction', 'entailment', 'entailment', 'neutral', 'contradiction', 'contradiction', 'entailment', 'contradiction', 'neutral', 'entailment', 'neutral', 'neutral', 'entailment', 'contradiction', 'entailment', 'entailment', 'neutral', 'entailment', 'entailment', 'entailment', 'neutral', 'entailment', 'neutral', 'neutral', 'neutral', 'entailment', 'neutral', 'neutral', 'entailment', 'neutral', 'contradiction', 'entailment', 'contradiction', 'entailment', 'entailment', 'entailment', 'contradiction', 'entailment', 'contradiction', 'entailment', 'neutral', 'neutral', 'contradiction', 'neutral', 'contradiction', 'contradiction', 'entailment', 'neutral', 'entailment', 'entailment', 'contradiction', 'entailment', 'contradiction', 'contradiction', 'contradiction', 'entailment', 'contradiction', 'entailment', 'contradiction', 'entailment', 'contradiction', 'contradiction', 'entailment', 'neutral', 'neutral', 'contradiction', 'entailment', 'entailment', 'contradiction', 'entailment', 'neutral', 'entailment', 'neutral', 'contradiction', 'neutral', 'contradiction', 'entailment', 'entailment', 'neutral', 'contradiction', 'contradiction', 'contradiction', 'entailment', 'entailment', 'contradiction', 'entailment', 'entailment', 'entailment', 'neutral', 'contradiction', 'neutral', 'entailment', 'entailment', 'contradiction', 'contradiction', 'neutral', 'contradiction', 'neutral', 'neutral', 'neutral', 'neutral', 'contradiction', 'entailment', 'entailment', 'contradiction', 'entailment', 'entailment', 'contradiction', 'entailment', 'contradiction', 'neutral', 'neutral', 'entailment', 'entailment', 'entailment', 'contradiction', 'entailment', 'entailment', 'contradiction', 'neutral', 'neutral', 'contradiction', 'entailment', 'neutral', 'neutral', 'neutral', 'contradiction', 'entailment', 'entailment', 'contradiction', 'contradiction', 'entailment', 'entailment', 'neutral', 'entailment', 'contradiction', 'contradiction', 'entailment', 'entailment', 'entailment', 'contradiction', 'contradiction', 'contradiction', 'entailment', 'contradiction', 'contradiction', 'neutral', 'neutral', 'contradiction', 'contradiction', 'contradiction', 'contradiction', 'contradiction', 'entailment', 'entailment', 'entailment', 'entailment', 'contradiction', 'contradiction', 'entailment', 'entailment', 'entailment', 'neutral', 'neutral', 'contradiction', 'entailment', 'entailment', 'contradiction', 'contradiction', 'contradiction', 'contradiction', 'neutral', 'contradiction', 'contradiction', 'entailment', 'contradiction', 'contradiction', 'entailment', 'entailment', 'neutral', 'neutral', 'neutral', 'neutral', 'entailment', 'neutral', 'neutral', 'contradiction', 'entailment', 'entailment', 'contradiction', 'neutral', 'neutral', 'neutral', 'entailment', 'contradiction', 'neutral', 'neutral', 'contradiction', 'entailment', 'neutral', 'contradiction', 'entailment', 'neutral', 'neutral', 'neutral', 'contradiction', 'entailment', 'contradiction', 'contradiction', 'neutral', 'neutral', 'contradiction', 'entailment', 'entailment', 'entailment', 'contradiction', 'neutral', 'entailment', 'contradiction', 'contradiction', 'neutral', 'contradiction', 'entailment', 'neutral', 'neutral', 'entailment', 'contradiction', 'contradiction', 'contradiction', 'entailment', 'entailment', 'neutral', 'entailment', 'neutral', 'contradiction', 'contradiction', 'contradiction', 'contradiction', 'contradiction', 'contradiction', 'entailment', 'neutral', 'entailment', 'neutral', 'entailment', 'neutral', 'contradiction', 'entailment', 'neutral', 'neutral', 'contradiction', 'entailment', 'neutral', 'neutral', 'neutral', 'neutral', 'neutral', 'neutral', 'neutral', 'entailment', 'contradiction', 'neutral', 'contradiction', 'entailment', 'entailment', 'neutral', 'neutral', 'entailment', 'neutral', 'entailment', 'contradiction', 'contradiction', 'contradiction', 'neutral', 'entailment', 'neutral', 'neutral', 'neutral', 'neutral', 'neutral', 'neutral', 'neutral', 'neutral', 'neutral', 'neutral', 'entailment', 'entailment', 'entailment', 'neutral', 'entailment', 'neutral', 'neutral', 'entailment', 'neutral', 'neutral', 'neutral', 'entailment', 'entailment', 'neutral', 'contradiction', 'entailment', 'entailment', 'neutral', 'entailment', 'entailment', 'neutral', 'entailment', 'entailment', 'neutral', 'entailment', 'neutral', 'neutral', 'neutral', 'neutral', 'neutral', 'neutral', 'neutral', 'neutral', 'entailment', 'neutral', 'neutral', 'neutral', 'neutral', 'neutral', 'neutral', 'neutral', 'entailment', 'neutral', 'entailment', 'neutral', 'neutral', 'neutral', 'entailment', 'entailment', 'entailment', 'neutral', 'entailment', 'entailment', 'entailment', 'contradiction', 'neutral', 'entailment', 'entailment', 'entailment', 'contradiction', 'entailment', 'entailment', 'entailment', 'entailment', 'entailment', 'contradiction', 'neutral', 'neutral', 'entailment', 'neutral', 'neutral', 'neutral', 'neutral', 'contradiction', 'neutral', 'neutral', 'neutral', 'neutral', 'neutral', 'entailment', 'entailment', 'neutral', 'entailment', 'neutral', 'entailment', 'neutral', 'contradiction', 'contradiction', 'neutral', 'neutral', 'contradiction', 'contradiction', 'neutral', 'neutral', 'neutral', 'entailment', 'entailment', 'contradiction', 'neutral', 'entailment', 'contradiction', 'entailment', 'contradiction', 'contradiction', 'entailment', 'neutral', 'neutral', 'neutral', 'neutral', 'neutral', 'neutral', 'contradiction', 'entailment', 'contradiction', 'contradiction', 'contradiction', 'contradiction', 'contradiction', 'contradiction', 'contradiction', 'contradiction', 'contradiction', 'contradiction', 'contradiction', 'neutral', 'entailment', 'contradiction', 'entailment', 'contradiction', 'contradiction', 'contradiction', 'contradiction', 'contradiction', 'contradiction', 'contradiction', 'contradiction', 'contradiction', 'contradiction', 'contradiction', 'contradiction', 'contradiction', 'contradiction', 'contradiction', 'contradiction', 'contradiction', 'neutral', 'contradiction', 'contradiction', 'contradiction', 'contradiction', 'contradiction', 'contradiction', 'contradiction', 'contradiction', 'contradiction', 'contradiction', 'contradiction', 'neutral', 'neutral', 'entailment', 'contradiction', 'contradiction', 'neutral', 'contradiction', 'contradiction', 'contradiction', 'contradiction', 'contradiction', 'contradiction', 'entailment', 'contradiction', 'contradiction', 'contradiction', 'contradiction', 'contradiction', 'contradiction', 'contradiction', 'contradiction', 'contradiction', 'contradiction', 'contradiction', 'contradiction', 'contradiction', 'contradiction', 'contradiction', 'contradiction', 'contradiction', 'contradiction', 'contradiction', 'contradiction', 'contradiction', 'contradiction', 'contradiction', 'contradiction', 'contradiction', 'contradiction', 'contradiction', 'contradiction', 'contradiction', 'contradiction', 'neutral', 'contradiction', 'contradiction', 'contradiction', 'contradiction', 'contradiction', 'contradiction', 'neutral', 'entailment', 'contradiction', 'neutral', 'contradiction', 'contradiction', 'contradiction', 'entailment', 'contradiction', 'neutral', 'contradiction', 'contradiction', 'contradiction', 'contradiction', 'contradiction', 'contradiction', 'contradiction', 'contradiction', 'contradiction', 'contradiction', 'contradiction', 'contradiction', 'contradiction', 'contradiction', 'contradiction', 'contradiction', 'contradiction', 'contradiction', 'contradiction', 'neutral', 'contradiction', 'contradiction', 'contradiction', 'contradiction', 'contradiction', 'contradiction', 'contradiction', 'contradiction', 'contradiction', 'contradiction', 'contradiction', 'contradiction', 'contradiction', 'contradiction', 'contradiction', 'contradiction', 'contradiction', 'contradiction', 'contradiction', 'contradiction', 'contradiction', 'contradiction', 'neutral', 'contradiction', 'contradiction', 'contradiction', 'contradiction', 'contradiction', 'contradiction', 'contradiction', 'contradiction', 'contradiction', 'contradiction', 'contradiction', 'contradiction', 'contradiction', 'contradiction', 'contradiction', 'contradiction', 'neutral', 'contradiction', 'contradiction', 'contradiction', 'contradiction', 'contradiction', 'contradiction', 'contradiction', 'neutral', 'neutral', 'contradiction', 'neutral', 'contradiction', 'contradiction', 'contradiction', 'neutral', 'contradiction', 'contradiction', 'neutral', 'neutral', 'contradiction', 'contradiction', 'entailment', 'contradiction', 'contradiction', 'contradiction', 'contradiction', 'contradiction', 'contradiction', 'contradiction', 'neutral', 'contradiction', 'contradiction', 'contradiction', 'contradiction', 'contradiction', 'contradiction', 'contradiction', 'contradiction', 'contradiction', 'neutral', 'contradiction', 'contradiction', 'contradiction', 'contradiction', 'contradiction', 'entailment', 'neutral', 'neutral', 'neutral', 'contradiction', 'entailment', 'entailment', 'contradiction', 'entailment', 'contradiction', 'neutral', 'contradiction', 'entailment', 'entailment', 'entailment', 'entailment', 'neutral', 'entailment', 'contradiction', 'neutral', 'entailment', 'contradiction', 'neutral', 'entailment', 'entailment', 'contradiction', 'entailment', 'neutral', 'contradiction', 'entailment', 'entailment', 'entailment', 'neutral', 'neutral', 'contradiction', 'contradiction', 'entailment', 'contradiction', 'entailment', 'neutral', 'neutral', 'neutral', 'neutral', 'contradiction', 'entailment', 'contradiction', 'entailment', 'entailment', 'entailment', 'entailment', 'contradiction', 'neutral', 'contradiction', 'neutral', 'neutral', 'entailment', 'entailment', 'neutral', 'entailment', 'entailment', 'neutral', 'entailment', 'contradiction', 'entailment', 'entailment', 'entailment', 'contradiction', 'neutral', 'contradiction', 'neutral', 'contradiction', 'entailment', 'contradiction', 'entailment', 'entailment', 'contradiction', 'neutral', 'neutral', 'contradiction', 'entailment', 'neutral', 'entailment', 'contradiction', 'contradiction', 'entailment', 'entailment', 'contradiction', 'contradiction', 'neutral', 'neutral', 'neutral', 'neutral', 'entailment', 'neutral', 'contradiction', 'contradiction', 'entailment', 'contradiction', 'entailment', 'contradiction', 'entailment', 'contradiction', 'entailment', 'entailment', 'neutral', 'contradiction', 'neutral', 'entailment', 'contradiction', 'contradiction', 'neutral', 'neutral', 'contradiction', 'entailment', 'entailment', 'contradiction', 'contradiction', 'contradiction', 'entailment', 'contradiction', 'contradiction', 'contradiction', 'contradiction', 'neutral', 'contradiction', 'entailment', 'neutral', 'neutral', 'entailment', 'contradiction', 'neutral', 'entailment', 'neutral', 'entailment', 'contradiction', 'neutral', 'contradiction', 'neutral', 'contradiction', 'entailment', 'contradiction', 'contradiction', 'neutral', 'contradiction', 'entailment', 'neutral', 'contradiction', 'neutral', 'contradiction', 'neutral', 'contradiction', 'contradiction', 'neutral', 'neutral', 'entailment', 'entailment', 'contradiction', 'neutral', 'entailment', 'entailment', 'entailment', 'entailment', 'entailment', 'entailment', 'neutral', 'neutral', 'entailment', 'neutral', 'contradiction', 'contradiction', 'entailment', 'contradiction', 'contradiction', 'contradiction', 'contradiction', 'entailment', 'entailment', 'contradiction', 'contradiction', 'contradiction', 'contradiction', 'entailment', 'contradiction', 'entailment', 'entailment', 'entailment', 'entailment', 'entailment', 'entailment', 'neutral', 'contradiction', 'entailment', 'contradiction', 'contradiction', 'entailment', 'entailment', 'contradiction', 'neutral', 'contradiction', 'contradiction', 'contradiction', 'entailment', 'entailment', 'contradiction', 'neutral', 'entailment', 'entailment', 'entailment', 'entailment', 'contradiction', 'contradiction', 'entailment', 'neutral', 'contradiction', 'entailment', 'contradiction', 'entailment', 'contradiction', 'entailment', 'neutral', 'neutral', 'contradiction', 'contradiction', 'contradiction', 'neutral', 'neutral', 'entailment', 'contradiction', 'contradiction', 'entailment', 'entailment', 'entailment', 'entailment', 'contradiction', 'entailment', 'neutral', 'neutral', 'contradiction', 'entailment', 'entailment', 'entailment', 'entailment', 'entailment', 'entailment', 'neutral', 'neutral', 'contradiction', 'neutral', 'contradiction', 'neutral', 'entailment', 'neutral', 'neutral', 'contradiction', 'neutral', 'contradiction', 'neutral', 'neutral', 'contradiction', 'entailment', 'entailment', 'neutral', 'entailment', 'entailment', 'neutral', 'contradiction', 'contradiction', 'neutral', 'neutral', 'contradiction', 'entailment', 'neutral', 'neutral', 'neutral', 'contradiction', 'neutral', 'neutral', 'contradiction', 'neutral', 'neutral', 'neutral', 'entailment', 'entailment', 'entailment', 'entailment', 'entailment', 'contradiction', 'contradiction', 'neutral', 'entailment', 'contradiction', 'entailment', 'neutral', 'entailment', 'neutral', 'neutral', 'neutral', 'entailment', 'entailment', 'entailment', 'neutral', 'contradiction', 'entailment', 'neutral', 'entailment', 'entailment', 'contradiction', 'neutral', 'contradiction', 'neutral', 'neutral', 'contradiction', 'entailment', 'contradiction', 'contradiction', 'contradiction', 'entailment', 'contradiction', 'contradiction', 'neutral', 'entailment', 'contradiction', 'contradiction', 'neutral', 'contradiction', 'neutral', 'contradiction', 'contradiction', 'entailment', 'entailment', 'entailment', 'entailment', 'contradiction', 'neutral', 'contradiction', 'neutral', 'entailment', 'entailment', 'contradiction', 'neutral', 'contradiction', 'entailment', 'entailment', 'entailment', 'neutral', 'entailment', 'entailment', 'entailment', 'neutral', 'neutral', 'neutral', 'entailment', 'entailment', 'neutral', 'neutral', 'entailment', 'contradiction', 'contradiction', 'neutral', 'contradiction', 'neutral', 'contradiction', 'neutral', 'contradiction', 'entailment', 'entailment', 'entailment', 'entailment', 'contradiction', 'neutral', 'entailment', 'contradiction', 'neutral', 'contradiction', 'neutral', 'contradiction', 'entailment', 'contradiction', 'contradiction', 'entailment', 'entailment', 'neutral', 'neutral', 'contradiction', 'neutral', 'neutral', 'contradiction', 'entailment', 'entailment', 'entailment', 'neutral', 'entailment', 'neutral', 'entailment', 'contradiction', 'contradiction', 'entailment', 'neutral', 'neutral', 'contradiction', 'neutral', 'entailment', 'entailment', 'neutral', 'neutral', 'entailment', 'neutral', 'neutral', 'contradiction', 'neutral', 'contradiction', 'entailment', 'entailment', 'entailment', 'neutral', 'contradiction', 'neutral', 'entailment', 'neutral', 'neutral', 'contradiction', 'entailment', 'neutral', 'contradiction', 'contradiction', 'contradiction', 'neutral', 'entailment', 'neutral', 'contradiction', 'neutral', 'contradiction', 'contradiction', 'contradiction', 'contradiction', 'contradiction', 'contradiction', 'contradiction', 'entailment', 'entailment', 'entailment', 'neutral', 'neutral', 'neutral', 'contradiction', 'contradiction', 'contradiction', 'neutral', 'neutral', 'contradiction', 'contradiction', 'neutral', 'entailment', 'contradiction', 'contradiction', 'neutral', 'neutral', 'entailment', 'neutral', 'neutral', 'entailment', 'contradiction', 'contradiction', 'contradiction', 'entailment', 'entailment', 'neutral', 'entailment', 'neutral', 'neutral', 'contradiction', 'neutral', 'entailment', 'entailment', 'neutral', 'neutral', 'neutral', 'neutral', 'neutral', 'contradiction', 'contradiction', 'neutral', 'neutral', 'contradiction', 'entailment', 'entailment', 'entailment', 'entailment', 'entailment', 'entailment', 'neutral', 'neutral', 'contradiction', 'entailment', 'neutral', 'neutral', 'neutral', 'entailment', 'entailment', 'entailment', 'contradiction', 'neutral', 'contradiction', 'contradiction', 'entailment', 'entailment', 'contradiction']\n"
     ]
    }
   ],
   "source": [
    "preds = [categories[x] for x in preds]\n",
    "print(preds)"
   ]
  },
  {
   "cell_type": "code",
   "execution_count": null,
   "metadata": {
    "colab": {
     "base_uri": "https://localhost:8080/",
     "height": 446
    },
    "id": "C0Moutdxj3Xn",
    "outputId": "ef4d0ca7-e870-44e7-ec15-cbbae7c200de"
   },
   "outputs": [
    {
     "data": {
      "text/html": [
       "<div>\n",
       "<style scoped>\n",
       "    .dataframe tbody tr th:only-of-type {\n",
       "        vertical-align: middle;\n",
       "    }\n",
       "\n",
       "    .dataframe tbody tr th {\n",
       "        vertical-align: top;\n",
       "    }\n",
       "\n",
       "    .dataframe thead th {\n",
       "        text-align: right;\n",
       "    }\n",
       "</style>\n",
       "<table border=\"1\" class=\"dataframe\">\n",
       "  <thead>\n",
       "    <tr style=\"text-align: right;\">\n",
       "      <th></th>\n",
       "      <th>label</th>\n",
       "    </tr>\n",
       "    <tr>\n",
       "      <th>id</th>\n",
       "      <th></th>\n",
       "    </tr>\n",
       "  </thead>\n",
       "  <tbody>\n",
       "    <tr>\n",
       "      <th>0</th>\n",
       "      <td>neutral</td>\n",
       "    </tr>\n",
       "    <tr>\n",
       "      <th>1</th>\n",
       "      <td>entailment</td>\n",
       "    </tr>\n",
       "    <tr>\n",
       "      <th>2</th>\n",
       "      <td>entailment</td>\n",
       "    </tr>\n",
       "    <tr>\n",
       "      <th>3</th>\n",
       "      <td>contradiction</td>\n",
       "    </tr>\n",
       "    <tr>\n",
       "      <th>4</th>\n",
       "      <td>contradiction</td>\n",
       "    </tr>\n",
       "    <tr>\n",
       "      <th>...</th>\n",
       "      <td>...</td>\n",
       "    </tr>\n",
       "    <tr>\n",
       "      <th>6988</th>\n",
       "      <td>contradiction</td>\n",
       "    </tr>\n",
       "    <tr>\n",
       "      <th>6989</th>\n",
       "      <td>contradiction</td>\n",
       "    </tr>\n",
       "    <tr>\n",
       "      <th>6990</th>\n",
       "      <td>entailment</td>\n",
       "    </tr>\n",
       "    <tr>\n",
       "      <th>6991</th>\n",
       "      <td>entailment</td>\n",
       "    </tr>\n",
       "    <tr>\n",
       "      <th>6992</th>\n",
       "      <td>contradiction</td>\n",
       "    </tr>\n",
       "  </tbody>\n",
       "</table>\n",
       "<p>6993 rows × 1 columns</p>\n",
       "</div>"
      ],
      "text/plain": [
       "              label\n",
       "id                 \n",
       "0           neutral\n",
       "1        entailment\n",
       "2        entailment\n",
       "3     contradiction\n",
       "4     contradiction\n",
       "...             ...\n",
       "6988  contradiction\n",
       "6989  contradiction\n",
       "6990     entailment\n",
       "6991     entailment\n",
       "6992  contradiction\n",
       "\n",
       "[6993 rows x 1 columns]"
      ]
     },
     "metadata": {
      "tags": []
     },
     "output_type": "display_data"
    }
   ],
   "source": [
    "ans = pd.DataFrame(index=test_X_temp.index)\n",
    "ans['label'] = preds\n",
    "\n",
    "display(ans)"
   ]
  },
  {
   "cell_type": "markdown",
   "metadata": {
    "id": "S2pN8Vqxzz0T"
   },
   "source": [
    "# Export Hasil Prediksi Untuk Disubmit"
   ]
  },
  {
   "cell_type": "code",
   "execution_count": null,
   "metadata": {
    "id": "hzGvtYsij81O"
   },
   "outputs": [],
   "source": [
    "from datetime import datetime\n",
    "from pytz import timezone    \n",
    "\n",
    "asia_jakarta = timezone('Asia/Jakarta')\n",
    "aj_time = datetime.now(asia_jakarta)\n",
    "aj_time = aj_time.strftime('%Y-%m-%d_%H-%M-%S')\n",
    "ans.to_csv(drivedir + 'submit_{}.csv'.format(aj_time), header=False)"
   ]
  }
 ],
 "metadata": {
  "accelerator": "GPU",
  "colab": {
   "collapsed_sections": [],
   "name": "Neural Network.ipynb",
   "provenance": []
  },
  "kernelspec": {
   "display_name": "Python 3",
   "language": "python",
   "name": "python3"
  },
  "language_info": {
   "codemirror_mode": {
    "name": "ipython",
    "version": 3
   },
   "file_extension": ".py",
   "mimetype": "text/x-python",
   "name": "python",
   "nbconvert_exporter": "python",
   "pygments_lexer": "ipython3",
   "version": "3.8.5"
  }
 },
 "nbformat": 4,
 "nbformat_minor": 4
}
